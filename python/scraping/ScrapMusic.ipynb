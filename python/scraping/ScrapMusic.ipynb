{
 "cells": [
  {
   "cell_type": "code",
   "execution_count": 7,
   "id": "eecaa165",
   "metadata": {},
   "outputs": [],
   "source": [
    "from __future__ import unicode_literals\n",
    "import youtube_dl\n",
    "import csv"
   ]
  },
  {
   "cell_type": "code",
   "execution_count": 8,
   "id": "b3d6d6c6",
   "metadata": {},
   "outputs": [],
   "source": [
    "#Modifier l'extend !\n",
    "\n",
    "extend_file = \"met_\"\n",
    "#extend_file = \"ele_\"\n",
    "#extend_file = \"cla_\"\n",
    "#extend_file = \"rap_\""
   ]
  },
  {
   "cell_type": "code",
   "execution_count": 9,
   "id": "1fed6f0f",
   "metadata": {},
   "outputs": [],
   "source": [
    "audio_path = \"../../data/musiques/\"\n",
    "csv_file = \"../../data/data.csv\"\n",
    "music_name = audio_path + extend_file\n",
    "url_name = \"https://www.youtube.com/watch?v=VpATBBRajP8\""
   ]
  },
  {
   "cell_type": "code",
   "execution_count": 10,
   "id": "1875fa21",
   "metadata": {},
   "outputs": [],
   "source": [
    "ydl_opts = {\n",
    "    'format': 'bestaudio/best',\n",
    "    'outtmpl': music_name + '.%(ext)s',\n",
    "    'postprocessors': [{\n",
    "        'key': 'FFmpegExtractAudio',\n",
    "        'preferredcodec': 'wav',\n",
    "        'preferredquality': '192'\n",
    "    }],\n",
    "    'postprocessor_args': [\n",
    "        '-ar', '16000'\n",
    "    ],\n",
    "    'prefer_ffmpeg': True\n",
    "}\n",
    "\n",
    "with youtube_dl.YoutubeDL(ydl_opts) as ydl:\n",
    "    ydl.download([url_name])"
   ]
  }
 ],
 "metadata": {
  "kernelspec": {
   "display_name": "Python 3",
   "language": "python",
   "name": "python3"
  },
  "language_info": {
   "codemirror_mode": {
    "name": "ipython",
    "version": 3
   },
   "file_extension": ".py",
   "mimetype": "text/x-python",
   "name": "python",
   "nbconvert_exporter": "python",
   "pygments_lexer": "ipython3",
   "version": "3.9.2"
  }
 },
 "nbformat": 4,
 "nbformat_minor": 5
}
