{
 "cells": [
  {
   "cell_type": "code",
   "execution_count": 1,
   "id": "19a282c5",
   "metadata": {},
   "outputs": [],
   "source": [
    "import os\n",
    "import matplotlib.pyplot as plt\n",
    "\n",
    "import librosa\n",
    "import librosa.display\n",
    "\n",
    "import IPython.display as ipd\n",
    "\n",
    "from __future__ import unicode_literals\n",
    "import youtube_dl\n",
    "import pandas as pd\n",
    "import numpy as np\n",
    "from scipy import signal\n",
    "from scipy.io import wavfile"
   ]
  },
  {
   "cell_type": "code",
   "execution_count": 2,
   "id": "c7757a93",
   "metadata": {},
   "outputs": [],
   "source": [
    "audio_path = \"../../data/musiques/\"\n",
    "spec_path = \"../../data/spectrogrammes/\"\n",
    "music_name = audio_path + \"t+emp_file\"\n",
    "csv_path = \"../../data/csv_files.csv\""
   ]
  },
  {
   "cell_type": "code",
   "execution_count": 3,
   "id": "775a463c",
   "metadata": {},
   "outputs": [],
   "source": [
    "def convertYtb(url_name):\n",
    "    ydl_opts = {\n",
    "        'format': 'bestaudio/best',\n",
    "        'outtmpl': music_name + '.%(ext)s',\n",
    "        'postprocessors': [{\n",
    "            'key': 'FFmpegExtractAudio',\n",
    "            'preferredcodec': 'wav',\n",
    "            'preferredquality': '192'\n",
    "        }],\n",
    "        'postprocessor_args': [\n",
    "            '-ar', '16000'\n",
    "        ],\n",
    "        'prefer_ffmpeg': True\n",
    "    }\n",
    "\n",
    "    with youtube_dl.YoutubeDL(ydl_opts) as ydl:\n",
    "        ydl.download([url_name])"
   ]
  },
  {
   "cell_type": "code",
   "execution_count": 4,
   "id": "7323150a",
   "metadata": {},
   "outputs": [],
   "source": [
    "def convertSpect(row_number, music_type):\n",
    "    audio_clips = os.listdir(audio_path)\n",
    "    \n",
    "    x, sr = librosa.load(audio_path+audio_clips[0], sr=441000,offset=60.0, duration=15.0) \n",
    "    \n",
    "    X = librosa.stft(x)\n",
    "    Xdb = librosa.amplitude_to_db(abs(X))\n",
    "    plt.figure(figsize=(14,5))\n",
    "    librosa.display.specshow(Xdb, sr=sr, x_axis='time', y_axis='log')\n",
    "    plt.colorbar()\n",
    "\n",
    "    path_img = spec_path + \"music_\" + str(music_type) + \"_\" + str(row_number) \n",
    "    plt.savefig(path_img+\".png\")\n",
    "    plt.close('all')"
   ]
  },
  {
   "cell_type": "code",
   "execution_count": 5,
   "id": "741102ab",
   "metadata": {},
   "outputs": [
    {
     "name": "stderr",
     "output_type": "stream",
     "text": [
      "C:\\miniconda\\envs\\annual_project\\lib\\site-packages\\IPython\\core\\interactiveshell.py:3165: DtypeWarning: Columns (0,1) have mixed types.Specify dtype option on import or set low_memory=False.\n",
      "  has_raised = await self.run_ast_nodes(code_ast.body, cell_name,\n"
     ]
    },
    {
     "data": {
      "text/html": [
       "<div>\n",
       "<style scoped>\n",
       "    .dataframe tbody tr th:only-of-type {\n",
       "        vertical-align: middle;\n",
       "    }\n",
       "\n",
       "    .dataframe tbody tr th {\n",
       "        vertical-align: top;\n",
       "    }\n",
       "\n",
       "    .dataframe thead th {\n",
       "        text-align: right;\n",
       "    }\n",
       "</style>\n",
       "<table border=\"1\" class=\"dataframe\">\n",
       "  <thead>\n",
       "    <tr style=\"text-align: right;\">\n",
       "      <th></th>\n",
       "      <th>nom</th>\n",
       "      <th>url</th>\n",
       "      <th>type</th>\n",
       "    </tr>\n",
       "  </thead>\n",
       "  <tbody>\n",
       "    <tr>\n",
       "      <th>553</th>\n",
       "      <td>playlist</td>\n",
       "      <td>https://www.youtube.com/watch?v=15jeouWNdXw&amp;li...</td>\n",
       "      <td>3.0</td>\n",
       "    </tr>\n",
       "  </tbody>\n",
       "</table>\n",
       "</div>"
      ],
      "text/plain": [
       "          nom                                                url  type\n",
       "553  playlist  https://www.youtube.com/watch?v=15jeouWNdXw&li...   3.0"
      ]
     },
     "execution_count": 5,
     "metadata": {},
     "output_type": "execute_result"
    }
   ],
   "source": [
    "i = 0\n",
    "df = pd.read_csv(csv_path, \";\",encoding=\"utf-8\")\n",
    "#df = df.drop(['Unnamed: 3', 'Unnamed: 4'], axis=1)\n",
    "df = df[553:554]\n",
    "df"
   ]
  },
  {
   "cell_type": "code",
   "execution_count": null,
   "id": "deb9ece5",
   "metadata": {},
   "outputs": [
    {
     "name": "stdout",
     "output_type": "stream",
     "text": [
      "[youtube:tab] Downloading playlist PL6VRO74uFENWfP2wId8pPd1hktULFsi1i - add --no-playlist to just download video 15jeouWNdXw\n",
      "[youtube:tab] PL6VRO74uFENWfP2wId8pPd1hktULFsi1i: Downloading webpage\n",
      "[youtube:tab] PL6VRO74uFENWfP2wId8pPd1hktULFsi1i: Downloading webpage\n",
      "[download] Downloading playlist: Meilleur son Rap [FR] 2021🔊🇨🇵\n",
      "[youtube:tab] playlist Meilleur son Rap [FR] 2021🔊🇨🇵: Downloading 8 videos\n",
      "[download] Downloading video 1 of 8\n",
      "[youtube] 15jeouWNdXw: Downloading webpage\n",
      "[youtube] 15jeouWNdXw: Downloading MPD manifest\n",
      "[download] Resuming download at byte 3369275\n",
      "[download] ..\\..\\data\\musiques\\t+emp_file.webm has already been downloaded\n",
      "[download] 100% of 3.21MiB\n",
      "[ffmpeg] Destination: ..\\..\\data\\musiques\\t+emp_file.wav\n",
      "Deleting original file ..\\..\\data\\musiques\\t+emp_file.webm (pass -k to keep)\n",
      "[download] Downloading video 2 of 8\n",
      "[youtube] 5UjA7_KO9YQ: Downloading webpage\n",
      "[youtube] 5UjA7_KO9YQ: Downloading MPD manifest\n",
      "[download] Destination: ..\\..\\data\\musiques\\t+emp_file.m4a\n",
      "[download] 100% of 3.20MiB in 00:00                  \n",
      "[ffmpeg] Correcting container in \"..\\..\\data\\musiques\\t+emp_file.m4a\"\n",
      "[ffmpeg] Destination: ..\\..\\data\\musiques\\t+emp_file.wav\n",
      "Deleting original file ..\\..\\data\\musiques\\t+emp_file.m4a (pass -k to keep)\n",
      "[download] Downloading video 3 of 8\n",
      "[youtube] szJDnZH9a-A: Downloading webpage\n",
      "[youtube] szJDnZH9a-A: Downloading MPD manifest\n",
      "[download] Destination: ..\\..\\data\\musiques\\t+emp_file.webm\n",
      "[download] 100% of 3.21MiB in 00:52                 \n",
      "[ffmpeg] Destination: ..\\..\\data\\musiques\\t+emp_file.wav\n",
      "Deleting original file ..\\..\\data\\musiques\\t+emp_file.webm (pass -k to keep)\n",
      "[download] Downloading video 4 of 8\n",
      "[youtube] Y40rG2dkCdE: Downloading webpage\n",
      "[youtube] Y40rG2dkCdE: Downloading MPD manifest\n",
      "[download] Destination: ..\\..\\data\\musiques\\t+emp_file.webm\n",
      "[download]  76.6% of 3.64MiB at 54.84KiB/s ETA 00:15"
     ]
    }
   ],
   "source": [
    "for index, row in df.iterrows():\n",
    "    if row[1] != \"\":\n",
    "        convertYtb(row[1])\n",
    "        convertSpect(index, row[2])\n",
    "        os.remove(music_name + \".wav\")\n",
    "    else:\n",
    "        break"
   ]
  },
  {
   "cell_type": "code",
   "execution_count": null,
   "id": "dc0624da",
   "metadata": {},
   "outputs": [],
   "source": []
  }
 ],
 "metadata": {
  "kernelspec": {
   "display_name": "Python 3",
   "language": "python",
   "name": "python3"
  },
  "language_info": {
   "codemirror_mode": {
    "name": "ipython",
    "version": 3
   },
   "file_extension": ".py",
   "mimetype": "text/x-python",
   "name": "python",
   "nbconvert_exporter": "python",
   "pygments_lexer": "ipython3",
   "version": "3.8.8"
  }
 },
 "nbformat": 4,
 "nbformat_minor": 5
}