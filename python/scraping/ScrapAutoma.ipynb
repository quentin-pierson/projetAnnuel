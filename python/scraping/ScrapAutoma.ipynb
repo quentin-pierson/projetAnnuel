{
 "cells": [
  {
   "cell_type": "code",
   "execution_count": null,
   "id": "19a282c5",
   "metadata": {},
   "outputs": [],
   "source": [
    "import os\n",
    "import matplotlib.pyplot as plt\n",
    "\n",
    "import librosa\n",
    "import librosa.display\n",
    "\n",
    "import IPython.display as ipd\n",
    "\n",
    "from __future__ import unicode_literals\n",
    "import youtube_dl\n",
    "import csv"
   ]
  },
  {
   "cell_type": "code",
   "execution_count": null,
   "id": "c7757a93",
   "metadata": {},
   "outputs": [],
   "source": [
    "audio_path = \"../../data/musiques/\"\n",
    "spec_path = \"../../data/spectrogrammes/\"\n",
    "music_name = audio_path + \"temp_file\""
   ]
  },
  {
   "cell_type": "code",
   "execution_count": null,
   "id": "775a463c",
   "metadata": {},
   "outputs": [],
   "source": [
    "def convertYtb(url_name):\n",
    "    ydl_opts = {\n",
    "        'format': 'bestaudio/best',\n",
    "        'outtmpl': music_name + '.%(ext)s',\n",
    "        'postprocessors': [{\n",
    "            'key': 'FFmpegExtractAudio',\n",
    "            'preferredcodec': 'wav',\n",
    "            'preferredquality': '192'\n",
    "        }],\n",
    "        'postprocessor_args': [\n",
    "            '-ar', '16000'\n",
    "        ],\n",
    "        'prefer_ffmpeg': True\n",
    "    }\n",
    "\n",
    "    with youtube_dl.YoutubeDL(ydl_opts) as ydl:\n",
    "        ydl.download([url_name])"
   ]
  },
  {
   "cell_type": "code",
   "execution_count": null,
   "id": "30d11c23",
   "metadata": {},
   "outputs": [],
   "source": [
    "def convertSpect(row_number, music_type):\n",
    "    audio_clips = os.listdir(audio_path)\n",
    "    \n",
    "    x, sr = librosa.load(audio_path+audio_clips[0], sr=441000)\n",
    "    plt.figure(figsize=(14,5))\n",
    "    librosa.display.waveplot(x,sr=sr)\n",
    "    \n",
    "    X = librosa.stft(x)\n",
    "    Xdb = librosa.amplitude_to_db(abs(X))\n",
    "    plt.figure(figsize=(14,5))\n",
    "    librosa.display.specshow(Xdb, sr=sr, x_axis='time', y_axis='log')\n",
    "    plt.colorbar()\n",
    "\n",
    "    path_img = spec_path + \"music_\" + music_type + \"_\" + row_number \n",
    "    plt.savefig(path_img)\n",
    "    "
   ]
  },
  {
   "cell_type": "code",
   "execution_count": null,
   "id": "dee139ae",
   "metadata": {},
   "outputs": [],
   "source": [
    "i = 0\n",
    "with open(csv_file, newline='') as csvfile:\n",
    "    spamreader = csv.reader(csvfile, delimiter=' ', quotechar='|')\n",
    "    for row in spamreader:\n",
    "        convertYtb(row[1])\n",
    "        convertSpect(i, row[2])\n",
    "        i += 1\n",
    "        \n",
    "        "
   ]
  },
  {
   "cell_type": "code",
   "execution_count": null,
   "id": "a527e877",
   "metadata": {},
   "outputs": [],
   "source": []
  }
 ],
 "metadata": {
  "kernelspec": {
   "display_name": "Python 3",
   "language": "python",
   "name": "python3"
  },
  "language_info": {
   "codemirror_mode": {
    "name": "ipython",
    "version": 3
   },
   "file_extension": ".py",
   "mimetype": "text/x-python",
   "name": "python",
   "nbconvert_exporter": "python",
   "pygments_lexer": "ipython3",
   "version": "3.9.2"
  }
 },
 "nbformat": 4,
 "nbformat_minor": 5
}
