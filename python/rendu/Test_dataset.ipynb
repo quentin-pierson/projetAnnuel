{
 "cells": [
  {
   "cell_type": "markdown",
   "id": "af3e51c6",
   "metadata": {},
   "source": [
    "# <center> <span style=\"color:red\">Music recognition </span> </center>"
   ]
  },
  {
   "cell_type": "markdown",
   "id": "1416398c",
   "metadata": {},
   "source": [
    "The purpose of this notebook is to take in music spectrograms and to recognize musical genres"
   ]
  },
  {
   "cell_type": "markdown",
   "id": "2e48de13",
   "metadata": {},
   "source": [
    "## Import "
   ]
  },
  {
   "cell_type": "code",
   "execution_count": 1,
   "id": "f8db9765",
   "metadata": {},
   "outputs": [],
   "source": [
    "import os\n",
    "import numpy as np\n",
    "from PIL import Image\n",
    "import matplotlib.pyplot as plt\n",
    "from sklearn.metrics import accuracy_score\n"
   ]
  },
  {
   "cell_type": "markdown",
   "id": "89c478d7",
   "metadata": {},
   "source": [
    "## Import Model Linear and MLP "
   ]
  },
  {
   "cell_type": "code",
   "execution_count": 2,
   "id": "d1d1cd11",
   "metadata": {},
   "outputs": [],
   "source": [
    "import sys  \n",
    "sys.path.insert(0, '../../python')\n",
    "\n",
    "from linearModel import linearModel\n",
    "from mlp import MLPModel"
   ]
  },
  {
   "cell_type": "markdown",
   "id": "49092ab7",
   "metadata": {},
   "source": [
    "## Create Model "
   ]
  },
  {
   "cell_type": "code",
   "execution_count": 3,
   "id": "03cd9aae",
   "metadata": {},
   "outputs": [],
   "source": [
    "lm = linearModel()\n",
    "mlp = MLPModel()"
   ]
  },
  {
   "cell_type": "markdown",
   "id": "ab204128",
   "metadata": {},
   "source": [
    "## Algorithme "
   ]
  },
  {
   "cell_type": "code",
   "execution_count": 4,
   "id": "48c6e03c",
   "metadata": {},
   "outputs": [],
   "source": [
    "def import_images_and_assign_labels(folder, label, X, Y):\n",
    "    for file in os.listdir(folder):\n",
    "        image_path = os.path.join(folder, file)\n",
    "        im = Image.open(image_path)\n",
    "        im = im.resize((8, 8))\n",
    "        im = im.convert(\"RGB\")\n",
    "        im_arr = np.array(im)\n",
    "        im_arr = np.reshape(im_arr, (8 * 8 * 3))\n",
    "        X.append(im_arr)\n",
    "        Y.append(label)"
   ]
  },
  {
   "cell_type": "code",
   "execution_count": 5,
   "id": "7b1e6e1a",
   "metadata": {},
   "outputs": [],
   "source": [
    "def import_dataset():\n",
    "    dataset_folder = \"G:/Programmes/Python/projetAnnuel/data/\"\n",
    "    train_folder = os.path.join(dataset_folder, \"train\")\n",
    "    test_folder = os.path.join(dataset_folder, \"test\")\n",
    "\n",
    "    X_train = []\n",
    "    y_train = []\n",
    "    \n",
    "    import_images_and_assign_labels(\n",
    "        os.path.join(train_folder, \"Electro\"), [1,0,0], X_train, y_train\n",
    "    )\n",
    "    import_images_and_assign_labels(\n",
    "        os.path.join(train_folder, \"Metal\"), [0,1,0], X_train, y_train\n",
    "    )\n",
    "    \n",
    "    import_images_and_assign_labels(\n",
    "        os.path.join(train_folder, \"Rap\"), [0,0,1], X_train, y_train\n",
    "    )\n",
    "    \n",
    "    X_test = []\n",
    "    y_test = []\n",
    "    import_images_and_assign_labels(\n",
    "        os.path.join(test_folder, \"Electro\"), [1,0,0], X_test, y_test\n",
    "    )\n",
    "    import_images_and_assign_labels(\n",
    "        os.path.join(test_folder, \"Metal\"), [0,1,0], X_test, y_test\n",
    "    )\n",
    "    \n",
    "    import_images_and_assign_labels(\n",
    "        os.path.join(test_folder, \"Rap\"), [0,0,1], X_test, y_test\n",
    "    )\n",
    "\n",
    "    return (np.array(X_train) / 255.0, np.array(y_train)), \\\n",
    "           (np.array(X_test) / 255.0, np.array(y_test))"
   ]
  },
  {
   "cell_type": "code",
   "execution_count": 6,
   "id": "c450f543",
   "metadata": {},
   "outputs": [],
   "source": [
    "def display_value(number,array):\n",
    "    print(\"Sur le dataset de Train\")\n",
    "    cpt = 0\n",
    "    for i in array:\n",
    "        print(cpt,\" \",np.argmax(i))\n",
    "        cpt+=1\n",
    "        if(cpt==number):\n",
    "            cpt=0"
   ]
  },
  {
   "cell_type": "code",
   "execution_count": 17,
   "id": "4a3c7b82",
   "metadata": {},
   "outputs": [],
   "source": [
    "def run_mlp():\n",
    "    (X_train, y_train), (X_test, y_test) = import_dataset()\n",
    "    \n",
    "    resultat1 = mlp.create_mlp_model([192,8,8,3])\n",
    "    model1 = resultat1[0]\n",
    "        \n",
    "    flattened_dataset_inputs = []\n",
    "    for p in X_train:\n",
    "        for i in p:\n",
    "            flattened_dataset_inputs.append(i)\n",
    "            \n",
    "    flattened_dataset_outputs = []\n",
    "    for p in y_train:\n",
    "        for i in p:\n",
    "            flattened_dataset_outputs.append(i)\n",
    "   \n",
    "    mlp.train_classification_stochastic_gradient_backpropagation(model1,\n",
    "                                                                flattened_dataset_inputs,\n",
    "                                                                flattened_dataset_outputs,\n",
    "                                                                alpha=1e-2,\n",
    "                                                                iterations_count=2000000)\n",
    "\n",
    "    predicted_outputs = [mlp.predict_mlp_model_classification(model1, p) for p in X_test]\n",
    "    \n",
    "#     item1 = 100\n",
    "#     item2 = 100\n",
    "#     for i in range(0,len(predicted_outputs)):\n",
    "#         if i > 9:\n",
    "#             if predicted_outputs[i] > 0:\n",
    "#                 item1 -= 10\n",
    "#         else:\n",
    "#             if predicted_outputs[i] < 0:\n",
    "#                 item2 -= 10\n",
    "        \n",
    "    #print(predicted_outputs)\n",
    "    display_value(10,predicted_outputs)\n",
    "    \n",
    "    mlp.free_MLP(resultat1)\n",
    "    \n",
    "    #print(f\"il y a {item2}% de chanson identifié en électro\")\n",
    "    #print(f\"il y a {item1}% de chanson identifié en métal\")"
   ]
  },
  {
   "cell_type": "code",
   "execution_count": 18,
   "id": "b8bbba71",
   "metadata": {
    "scrolled": true
   },
   "outputs": [
    {
     "name": "stdout",
     "output_type": "stream",
     "text": [
      "Sur le dataset de Train\n",
      "0   0\n",
      "1   0\n",
      "2   0\n",
      "3   0\n",
      "4   2\n",
      "5   2\n",
      "6   2\n",
      "7   0\n",
      "8   0\n",
      "9   0\n",
      "0   1\n",
      "1   1\n",
      "2   1\n",
      "3   1\n",
      "4   1\n",
      "5   1\n",
      "6   2\n",
      "7   2\n",
      "8   1\n",
      "9   0\n",
      "0   2\n",
      "1   2\n",
      "2   2\n",
      "3   0\n",
      "4   0\n",
      "5   2\n",
      "6   2\n",
      "7   0\n",
      "8   0\n",
      "9   0\n"
     ]
    }
   ],
   "source": [
    "run_mlp()"
   ]
  },
  {
   "cell_type": "code",
   "execution_count": null,
   "id": "244eaddf",
   "metadata": {},
   "outputs": [],
   "source": []
  }
 ],
 "metadata": {
  "kernelspec": {
   "display_name": "Python 3",
   "language": "python",
   "name": "python3"
  },
  "language_info": {
   "codemirror_mode": {
    "name": "ipython",
    "version": 3
   },
   "file_extension": ".py",
   "mimetype": "text/x-python",
   "name": "python",
   "nbconvert_exporter": "python",
   "pygments_lexer": "ipython3",
   "version": "3.8.8"
  }
 },
 "nbformat": 4,
 "nbformat_minor": 5
}
