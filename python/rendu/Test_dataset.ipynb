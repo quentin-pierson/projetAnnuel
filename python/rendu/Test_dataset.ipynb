{
 "cells": [
  {
   "cell_type": "markdown",
   "id": "af3e51c6",
   "metadata": {},
   "source": [
    "# <center> <span style=\"color:red\">Music recognition </span> </center>"
   ]
  },
  {
   "cell_type": "markdown",
   "id": "1416398c",
   "metadata": {},
   "source": [
    "The purpose of this notebook is to take in music spectrograms and to recognize musical genres"
   ]
  },
  {
   "cell_type": "markdown",
   "id": "2e48de13",
   "metadata": {},
   "source": [
    "## Import "
   ]
  },
  {
   "cell_type": "code",
   "execution_count": 1,
   "id": "f8db9765",
   "metadata": {},
   "outputs": [],
   "source": [
    "import os\n",
    "import numpy as np\n",
    "from PIL import Image\n",
    "import matplotlib.pyplot as plt\n",
    "from sklearn.metrics import accuracy_score\n"
   ]
  },
  {
   "cell_type": "markdown",
   "id": "89c478d7",
   "metadata": {},
   "source": [
    "## Import Model Linear and MLP "
   ]
  },
  {
   "cell_type": "code",
   "execution_count": 2,
   "id": "d1d1cd11",
   "metadata": {},
   "outputs": [],
   "source": [
    "import sys  \n",
    "sys.path.insert(0, '../../python')\n",
    "\n",
    "from linearModel import linearModel\n",
    "from mlp import MLPModel"
   ]
  },
  {
   "cell_type": "markdown",
   "id": "49092ab7",
   "metadata": {},
   "source": [
    "## Create Model "
   ]
  },
  {
   "cell_type": "code",
   "execution_count": 3,
   "id": "03cd9aae",
   "metadata": {},
   "outputs": [],
   "source": [
    "lm = linearModel()\n",
    "mlp = MLPModel()"
   ]
  },
  {
   "cell_type": "markdown",
   "id": "ab204128",
   "metadata": {},
   "source": [
    "## Algorithme "
   ]
  },
  {
   "cell_type": "code",
   "execution_count": 4,
   "id": "48c6e03c",
   "metadata": {},
   "outputs": [],
   "source": [
    "def import_images_and_assign_labels(folder, label, X, Y):\n",
    "    for file in os.listdir(folder):\n",
    "        image_path = os.path.join(folder, file)\n",
    "        im = Image.open(image_path)\n",
    "        im = im.resize((8, 8))\n",
    "        im = im.convert(\"RGB\")\n",
    "        im_arr = np.array(im)\n",
    "        im_arr = np.reshape(im_arr, (8 * 8 * 3))\n",
    "        X.append(im_arr)\n",
    "        Y.append(label)"
   ]
  },
  {
   "cell_type": "code",
   "execution_count": 44,
   "id": "7b1e6e1a",
   "metadata": {},
   "outputs": [],
   "source": [
    "def import_dataset():\n",
    "    dataset_folder = \"G:/Programmes/Python/projetAnnuel/data/\"\n",
    "    train_folder = os.path.join(dataset_folder, \"train\")\n",
    "    test_folder = os.path.join(dataset_folder, \"test\")\n",
    "\n",
    "    X_train = []\n",
    "    y_train = []\n",
    "    \n",
    "    import_images_and_assign_labels(\n",
    "        os.path.join(train_folder, \"Electro\"), [1,0,0], X_train, y_train\n",
    "    )\n",
    "    import_images_and_assign_labels(\n",
    "        os.path.join(train_folder, \"Metal\"), [0,1,0], X_train, y_train\n",
    "    )\n",
    "    \n",
    "    import_images_and_assign_labels(\n",
    "        os.path.join(train_folder, \"Rap\"), [0,0,1], X_train, y_train\n",
    "    )\n",
    "    \n",
    "    X_test = []\n",
    "    y_test = []\n",
    "    import_images_and_assign_labels(\n",
    "        os.path.join(test_folder, \"Electro\"), [1,0,0], X_test, y_test\n",
    "    )\n",
    "    import_images_and_assign_labels(\n",
    "        os.path.join(test_folder, \"Metal\"), [0,1,0], X_test, y_test\n",
    "    )\n",
    "    \n",
    "    import_images_and_assign_labels(\n",
    "        os.path.join(test_folder, \"Rap\"), [0,0,1], X_test, y_test\n",
    "    )\n",
    "    \n",
    "    return (np.array(X_train) / 255.0, np.array(y_train)), \\\n",
    "           (np.array(X_test) / 255.0, np.array(y_test))"
   ]
  },
  {
   "cell_type": "code",
   "execution_count": 56,
   "id": "c450f543",
   "metadata": {},
   "outputs": [],
   "source": [
    "def display_value(array):\n",
    "    print(\"Sur le dataset de Train\")\n",
    "    cpt = 0\n",
    "    number = len(array)/3\n",
    "    for i in array:\n",
    "        print(cpt,\" \",np.argmax(i),\" \",i)\n",
    "        cpt+=1\n",
    "        if(cpt==number):\n",
    "            cpt=0"
   ]
  },
  {
   "cell_type": "code",
   "execution_count": 66,
   "id": "c7ca90a7",
   "metadata": {},
   "outputs": [],
   "source": [
    "def percentage_music_style(array):\n",
    "    item1 = 0\n",
    "    item2 = 0\n",
    "    item3 = 0\n",
    "    cpt = 0\n",
    "    for i in array:\n",
    "        if cpt<10:\n",
    "            if np.argmax(i) == 0:\n",
    "                item2 += 10\n",
    "        elif cpt<20:\n",
    "            if np.argmax(i) == 1: \n",
    "                item1 += 10\n",
    "        else:\n",
    "            if np.argmax(i) == 2:\n",
    "                item3 +=10\n",
    "        cpt+=1\n",
    "        \n",
    "    print(f\"il y a {item2}% de chanson identifié en électro\")\n",
    "    print(f\"il y a {item1}% de chanson identifié en métal\")\n",
    "    print(f\"il y a {item3}% de chanson identifié en rap\")"
   ]
  },
  {
   "cell_type": "code",
   "execution_count": 71,
   "id": "4a3c7b82",
   "metadata": {},
   "outputs": [],
   "source": [
    "def run_mlp():\n",
    "    (X_train, y_train), (X_test, y_test) = import_dataset()\n",
    "    \n",
    "    resultat1 = mlp.create_mlp_model([192,8,8,3])\n",
    "    model1 = resultat1[0]\n",
    "        \n",
    "    flattened_dataset_inputs = []\n",
    "    for p in X_train:\n",
    "        for i in p:\n",
    "            flattened_dataset_inputs.append(i)\n",
    "            \n",
    "    flattened_dataset_outputs = []\n",
    "    for p in y_train:\n",
    "        for i in p:\n",
    "            flattened_dataset_outputs.append(i)\n",
    "   \n",
    "    mlp.train_classification_stochastic_gradient_backpropagation(model1,\n",
    "                                                                flattened_dataset_inputs,\n",
    "                                                                flattened_dataset_outputs,\n",
    "                                                                alpha=1e-2,\n",
    "                                                                iterations_count=2000000)\n",
    "\n",
    "    predicted_outputs = [mlp.predict_mlp_model_classification(model1, p) for p in X_test]\n",
    "    \n",
    "\n",
    "        \n",
    "    #print(predicted_outputs)\n",
    "    display_value(predicted_outputs)\n",
    "    percentage_music_style(predicted_outputs)\n",
    "\n",
    "    mlp.free_MLP(resultat1)"
   ]
  },
  {
   "cell_type": "code",
   "execution_count": 73,
   "id": "b8bbba71",
   "metadata": {
    "scrolled": false
   },
   "outputs": [
    {
     "name": "stdout",
     "output_type": "stream",
     "text": [
      "Sur le dataset de Train\n",
      "0   0   [0.9932944774627686, -0.05053254961967468, 0.002521358896046877]\n",
      "1   0   [0.9826281070709229, -0.03785562887787819, 0.00635963398963213]\n",
      "2   1   [0.12381243705749512, 0.9810867309570312, 0.033157769590616226]\n",
      "3   2   [0.05064549297094345, -0.02432548813521862, 0.975572943687439]\n",
      "4   2   [0.4215078353881836, -0.014638084918260574, 0.6960760951042175]\n",
      "5   2   [0.053586721420288086, -0.023935897275805473, 0.9754320383071899]\n",
      "6   2   [0.24866227805614471, -0.007777566555887461, 0.8788512945175171]\n",
      "7   1   [0.12784583866596222, 0.9717852473258972, 0.04012582078576088]\n",
      "8   0   [0.9772147536277771, -0.02445402927696705, 0.01178220845758915]\n",
      "9   0   [0.9479002356529236, 0.040025293827056885, 0.03119806759059429]\n",
      "0   1   [0.13472998142242432, 0.9869238138198853, 0.026088692247867584]\n",
      "1   1   [0.11069237440824509, 0.9911127090454102, 0.019239557906985283]\n",
      "2   1   [0.10960088670253754, 0.9912692904472351, 0.018935848027467728]\n",
      "3   1   [0.11334674805402756, 0.9912912249565125, 0.018823064863681793]\n",
      "4   1   [0.1137951910495758, 0.9912503361701965, 0.018907081335783005]\n",
      "5   1   [0.11020621657371521, 0.9910175204277039, 0.01945815049111843]\n",
      "6   2   [0.05468391627073288, -0.02378755994141102, 0.9753732085227966]\n",
      "7   2   [-0.12942707538604736, 0.12198247760534286, 0.8742194175720215]\n",
      "8   1   [0.11215780675411224, 0.9808138012886047, 0.03162594139575958]\n",
      "9   1   [0.24618467688560486, 0.5795914530754089, 0.08808265626430511]\n",
      "0   2   [0.0961926281452179, -0.017687056213617325, 0.9723867774009705]\n",
      "1   2   [0.04500684514641762, -0.025030627846717834, 0.9756736159324646]\n",
      "2   2   [0.026478715240955353, -0.027020299807190895, 0.95587158203125]\n",
      "3   0   [0.9938071370124817, 0.03131348267197609, 0.0741787850856781]\n",
      "4   0   [0.97416090965271, -0.035370584577322006, 0.015074220485985279]\n",
      "5   2   [0.09694278985261917, 0.07770386338233948, 0.874553382396698]\n",
      "6   0   [0.9284013509750366, 0.06794522702693939, 0.039653073996305466]\n",
      "7   2   [0.05356151983141899, -0.024265509098768234, 0.931244432926178]\n",
      "8   0   [0.9994733333587646, -0.047051433473825455, -0.032334987074136734]\n",
      "9   2   [-0.019223466515541077, -0.023246368393301964, 0.9476420879364014]\n",
      "il y a 40% de chanson identifié en électro\n",
      "il y a 80% de chanson identifié en métal\n",
      "il y a 60% de chanson identifié en rap\n"
     ]
    }
   ],
   "source": [
    "run_mlp()"
   ]
  },
  {
   "cell_type": "code",
   "execution_count": null,
   "id": "244eaddf",
   "metadata": {},
   "outputs": [],
   "source": []
  }
 ],
 "metadata": {
  "kernelspec": {
   "display_name": "Python 3",
   "language": "python",
   "name": "python3"
  },
  "language_info": {
   "codemirror_mode": {
    "name": "ipython",
    "version": 3
   },
   "file_extension": ".py",
   "mimetype": "text/x-python",
   "name": "python",
   "nbconvert_exporter": "python",
   "pygments_lexer": "ipython3",
   "version": "3.8.8"
  }
 },
 "nbformat": 4,
 "nbformat_minor": 5
}
