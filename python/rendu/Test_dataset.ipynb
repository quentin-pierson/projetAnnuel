{
 "cells": [
  {
   "cell_type": "markdown",
   "id": "a9090b2f",
   "metadata": {},
   "source": [
    "# <center> <span style=\"color:red\">Music recognition </span> </center>"
   ]
  },
  {
   "cell_type": "markdown",
   "id": "8e894f4a",
   "metadata": {},
   "source": [
    "The purpose of this notebook is to take in music spectrograms and to recognize musical genres"
   ]
  },
  {
   "cell_type": "markdown",
   "id": "a232b1c2",
   "metadata": {},
   "source": [
    "## Import "
   ]
  },
  {
   "cell_type": "code",
   "execution_count": 1,
   "id": "52d0cad4",
   "metadata": {},
   "outputs": [],
   "source": [
    "import os\n",
    "import numpy as np\n",
    "from PIL import Image\n",
    "import matplotlib.pyplot as plt\n",
    "from sklearn.metrics import accuracy_score, mean_squared_error, accuracy_score\n",
    "from IPython.display import clear_output\n",
    "from eli5.sklearn import PermutationImportance\n",
    "import eli5"
   ]
  },
  {
   "cell_type": "code",
   "execution_count": 17,
   "id": "971f068a",
   "metadata": {},
   "outputs": [],
   "source": [
    "target_size = (8, 8)"
   ]
  },
  {
   "cell_type": "markdown",
   "id": "668c6519",
   "metadata": {},
   "source": [
    "## Import Model Linear and MLP "
   ]
  },
  {
   "cell_type": "code",
   "execution_count": 3,
   "id": "9707bdfa",
   "metadata": {},
   "outputs": [],
   "source": [
    "import sys  \n",
    "sys.path.insert(0, '../../python')\n",
    "\n",
    "from linearModel import linearModel\n",
    "from mlp import MLPModel\n",
    "from wrapper import MyMLPRawWrapper"
   ]
  },
  {
   "cell_type": "markdown",
   "id": "f73873bb",
   "metadata": {},
   "source": [
    "## Create Model "
   ]
  },
  {
   "cell_type": "code",
   "execution_count": 4,
   "id": "25e33d7b",
   "metadata": {},
   "outputs": [],
   "source": [
    "lm = linearModel()\n",
    "mlp = MLPModel()"
   ]
  },
  {
   "cell_type": "markdown",
   "id": "d86e5ad2",
   "metadata": {},
   "source": [
    "## Algorithme "
   ]
  },
  {
   "cell_type": "code",
   "execution_count": 5,
   "id": "d64b9006",
   "metadata": {},
   "outputs": [],
   "source": [
    "def import_images_and_assign_labels(folder, label, X, Y):\n",
    "    for file in os.listdir(folder):\n",
    "        image_path = os.path.join(folder, file)\n",
    "        im = Image.open(image_path)\n",
    "        im = im.resize((8, 8))\n",
    "        im = im.convert(\"RGB\")\n",
    "        im_arr = np.array(im)\n",
    "        im_arr = np.reshape(im_arr, (8 * 8 * 3))\n",
    "        X.append(im_arr)\n",
    "        Y.append(label)"
   ]
  },
  {
   "cell_type": "code",
   "execution_count": 6,
   "id": "231bcf37",
   "metadata": {},
   "outputs": [],
   "source": [
    "def import_dataset():\n",
    "    dataset_folder = \"../../data/\"\n",
    "    train_folder = os.path.join(dataset_folder, \"train\")\n",
    "    test_folder = os.path.join(dataset_folder, \"test\")\n",
    "\n",
    "    X_train = []\n",
    "    y_train = []\n",
    "    \n",
    "    import_images_and_assign_labels(\n",
    "        os.path.join(train_folder, \"Electro\"), [1,0,0], X_train, y_train\n",
    "    )\n",
    "    import_images_and_assign_labels(\n",
    "        os.path.join(train_folder, \"Metal\"), [0,1,0], X_train, y_train\n",
    "    )\n",
    "    \n",
    "    import_images_and_assign_labels(\n",
    "        os.path.join(train_folder, \"Rap\"), [0,0,1], X_train, y_train\n",
    "    )\n",
    "    \n",
    "    X_test = []\n",
    "    y_test = []\n",
    "    import_images_and_assign_labels(\n",
    "        os.path.join(test_folder, \"Electro\"), [1,0,0], X_test, y_test\n",
    "    )\n",
    "    import_images_and_assign_labels(\n",
    "        os.path.join(test_folder, \"Metal\"), [0,1,0], X_test, y_test\n",
    "    )\n",
    "    \n",
    "    import_images_and_assign_labels(\n",
    "        os.path.join(test_folder, \"Rap\"), [0,0,1], X_test, y_test\n",
    "    )\n",
    "    \n",
    "    return (np.array(X_train) / 255.0, np.array(y_train)), \\\n",
    "           (np.array(X_test) / 255.0, np.array(y_test))"
   ]
  },
  {
   "cell_type": "code",
   "execution_count": 7,
   "id": "520aa5f8",
   "metadata": {},
   "outputs": [],
   "source": [
    "def display_value(array):\n",
    "    print(\"Sur le dataset de Train\")\n",
    "    cpt = 0\n",
    "    number = len(array)/3\n",
    "    for i in array:\n",
    "        print(cpt,\" \",np.argmax(i ),\" \",i)\n",
    "        cpt+=1\n",
    "        if(cpt==number):\n",
    "            cpt=0"
   ]
  },
  {
   "cell_type": "code",
   "execution_count": 8,
   "id": "f0f23452",
   "metadata": {},
   "outputs": [],
   "source": [
    "def percentage_music_style(array):\n",
    "    item1 = 0\n",
    "    item2 = 0\n",
    "    item3 = 0\n",
    "    itemGlobal = 0 \n",
    "    cpt = 0\n",
    "    for i in array:\n",
    "        if cpt<10:\n",
    "            if np.argmax(i) == 0:\n",
    "                item2 += 10\n",
    "        elif cpt<20:\n",
    "            if np.argmax(i) == 1: \n",
    "                item1 += 10\n",
    "        else:\n",
    "            if np.argmax(i) == 2:\n",
    "                item3 +=10\n",
    "        cpt+=1\n",
    "    itemGlobal = round((item1+item2+item3)/3,2)\n",
    "        \n",
    "    print(f\"il y a {item2}% de chanson identifié en électro\")\n",
    "    print(f\"il y a {item1}% de chanson identifié en métal\")\n",
    "    print(f\"il y a {item3}% de chanson identifié en rap\")\n",
    "    print(f\"L'accuracy de notre ia est de {itemGlobal}%\")"
   ]
  },
  {
   "cell_type": "code",
   "execution_count": 9,
   "id": "1a09d914",
   "metadata": {},
   "outputs": [],
   "source": [
    "def my_mean_squared_error(y_true, y_pred):\n",
    "    return np.sum((y_true - y_pred) ** 2) / len(y_true)"
   ]
  },
  {
   "cell_type": "code",
   "execution_count": 10,
   "id": "787d357a",
   "metadata": {},
   "outputs": [],
   "source": [
    "def run_mlp_wrapper():\n",
    "    (X_train, y_train), (X_test, y_test) = import_dataset()\n",
    "    wrapped_model = MyMLPRawWrapper([192,32,32,3], True, 1e-2, 1000)\n",
    "\n",
    "    losses = []\n",
    "    val_losses = []\n",
    "    accs = []\n",
    "    val_accs = []\n",
    "        \n",
    "    for epoch in range(10):\n",
    "        wrapped_model.fit(X_train, y_train)\n",
    "        y_pred = wrapped_model.predict(X_train)\n",
    "        loss = mean_squared_error(y_train, y_pred)\n",
    "        losses.append(loss)\n",
    "        val_y_pred = wrapped_model.predict(X_test)\n",
    "        val_loss = mean_squared_error(y_test, val_y_pred)\n",
    "        val_losses.append(val_loss)\n",
    "\n",
    "        acc = accuracy_score(np.argmax(y_train, axis=1), np.argmax(y_pred, axis=1))\n",
    "        accs.append(acc)\n",
    "\n",
    "        val_acc = accuracy_score(np.argmax(y_test, axis=1), np.argmax(val_y_pred, axis=1))\n",
    "        val_accs.append(val_acc)\n",
    "\n",
    "        clear_output(True)\n",
    "\n",
    "        plt.plot(losses)\n",
    "        plt.plot(val_losses)\n",
    "        plt.legend(['loss', 'val_loss'], loc='upper left')\n",
    "        plt.title('Evolution of loss (MSE)')\n",
    "        plt.xlabel('epochs')\n",
    "        plt.ylabel(f'mean squared error')\n",
    "        plt.show()  \n",
    "\n",
    "        plt.plot(accs)\n",
    "        plt.plot(val_accs)\n",
    "        plt.legend(['acc', 'val_acc'], loc='upper left')\n",
    "        plt.title('Evolution of accuracy')\n",
    "        plt.xlabel('epochs')\n",
    "        plt.ylabel(f'accuracy')\n",
    "        plt.show()\n",
    "\n",
    "    image_metrics(wrapped_model,X_test,y_test)"
   ]
  },
  {
   "cell_type": "code",
   "execution_count": 11,
   "id": "86f7026b",
   "metadata": {},
   "outputs": [],
   "source": [
    "def run_mlp():\n",
    "    (X_train, y_train), (X_test, y_test) = import_dataset()\n",
    "    \n",
    "    resultat1 = mlp.create_mlp_model([192,4,4,3])\n",
    "    model1 = resultat1[0]\n",
    "        \n",
    "    flattened_dataset_inputs = []\n",
    "    for p in X_train:\n",
    "        for i in p:\n",
    "            flattened_dataset_inputs.append(i)\n",
    "            \n",
    "    flattened_dataset_outputs = []\n",
    "    for p in y_train:\n",
    "        for i in p:\n",
    "            flattened_dataset_outputs.append(i)\n",
    "   \n",
    "    mlp.train_classification_stochastic_gradient_backpropagation(model1,\n",
    "                                                                flattened_dataset_inputs,\n",
    "                                                                flattened_dataset_outputs,\n",
    "                                                                alpha=1e-3,\n",
    "                                                                iterations_count=200000)\n",
    "\n",
    "    predicted_outputs = [mlp.predict_mlp_model_classification(model1, p) for p in X_test]\n",
    "    \n",
    "\n",
    "        \n",
    "    display_value(predicted_outputs)\n",
    "    percentage_music_style(predicted_outputs)\n",
    "    mlp.save_mlp_classification(model1)\n",
    "    \n",
    "    mlp.free_MLP(resultat1)"
   ]
  },
  {
   "cell_type": "raw",
   "id": "51e10b74",
   "metadata": {},
   "source": [
    "def load_mlp():\n",
    "    (X_train, y_train), (X_test, y_test) = import_dataset()\n",
    "    \n",
    "    resultat2 = mlp.load_mlp_model(\"../../Save/mlp_classification_192_4_4_3_2021719111216.json\")\n",
    "    model2 = resultat2[0]\n",
    "        \n",
    "    predicted_outputs = [mlp.predict_mlp_model_classification(model2, p) for p in X_test]\n",
    "\n",
    "    display_value(predicted_outputs)\n",
    "    percentage_music_style(predicted_outputs)\n",
    "    \n",
    "    mlp.free_MLP(resultat2)"
   ]
  },
  {
   "cell_type": "raw",
   "id": "6a296bd1",
   "metadata": {},
   "source": [
    "load_mlp()"
   ]
  },
  {
   "cell_type": "markdown",
   "id": "384ab4bb",
   "metadata": {},
   "source": [
    "## <center> eli5 </center>"
   ]
  },
  {
   "cell_type": "code",
   "execution_count": 18,
   "id": "897e1daa",
   "metadata": {},
   "outputs": [],
   "source": [
    "def image_metrics(wrapped_model,x_test,y_test):\n",
    "    perm_imp = PermutationImportance(wrapped_model, scoring='neg_mean_squared_error')\n",
    "    perm_imp.fit(x_test.reshape((-1, target_size[0] * target_size[1]* 3)), y_test)\n",
    "    eli5.explain_weights(perm_imp)\n",
    "    plt.imshow(np.reshape(perm_imp.feature_importances_, target_size))\n",
    "    plt.show()"
   ]
  },
  {
   "cell_type": "code",
   "execution_count": null,
   "id": "cb9182e8",
   "metadata": {
    "scrolled": false
   },
   "outputs": [
    {
     "data": {
      "image/png": "[encoded data removed]",
      "text/plain": [
       "<Figure size 432x288 with 1 Axes>"
      ]
     },
     "metadata": {
      "needs_background": "light"
     },
     "output_type": "display_data"
    },
    {
     "data": {
      "image/png": "[encoded data removed]",
      "text/plain": [
       "<Figure size 432x288 with 1 Axes>"
      ]
     },
     "metadata": {
      "needs_background": "light"
     },
     "output_type": "display_data"
    }
   ],
   "source": [
    "run_mlp_wrapper()"
   ]
  },
  {
   "cell_type": "code",
   "execution_count": null,
   "id": "4963d7bb",
   "metadata": {},
   "outputs": [],
   "source": []
  }
 ],
 "metadata": {
  "kernelspec": {
   "display_name": "Python 3",
   "language": "python",
   "name": "python3"
  },
  "language_info": {
   "codemirror_mode": {
    "name": "ipython",
    "version": 3
   },
   "file_extension": ".py",
   "mimetype": "text/x-python",
   "name": "python",
   "nbconvert_exporter": "python",
   "pygments_lexer": "ipython3",
   "version": "3.8.10"
  }
 },
 "nbformat": 4,
 "nbformat_minor": 5
}
