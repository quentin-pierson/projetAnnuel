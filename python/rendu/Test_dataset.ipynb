{
 "cells": [
  {
   "cell_type": "markdown",
   "id": "a9090b2f",
   "metadata": {},
   "source": [
    "# <center> <span style=\"color:red\">Music recognition </span> </center>"
   ]
  },
  {
   "cell_type": "markdown",
   "id": "8e894f4a",
   "metadata": {},
   "source": [
    "The purpose of this notebook is to take in music spectrograms and to recognize musical genres"
   ]
  },
  {
   "cell_type": "markdown",
   "id": "a232b1c2",
   "metadata": {},
   "source": [
    "## Import "
   ]
  },
  {
   "cell_type": "code",
   "execution_count": 1,
   "id": "52d0cad4",
   "metadata": {},
   "outputs": [],
   "source": [
    "import os\n",
    "import numpy as np\n",
    "from PIL import Image\n",
    "import matplotlib.pyplot as plt\n",
    "from sklearn.metrics import accuracy_score, mean_squared_error, accuracy_score\n",
    "from IPython.display import clear_output\n",
    "from eli5.sklearn import PermutationImportance\n",
    "import eli5"
   ]
  },
  {
   "cell_type": "code",
   "execution_count": 2,
   "id": "7e7514b8",
   "metadata": {},
   "outputs": [],
   "source": [
    "target_size = (8, 8)"
   ]
  },
  {
   "cell_type": "markdown",
   "id": "668c6519",
   "metadata": {},
   "source": [
    "## Import Model Linear and MLP "
   ]
  },
  {
   "cell_type": "code",
   "execution_count": 3,
   "id": "9707bdfa",
   "metadata": {},
   "outputs": [],
   "source": [
    "import sys  \n",
    "sys.path.insert(0, '../../python')\n",
    "\n",
    "from linearModel import linearModel\n",
    "from mlp import MLPModel\n",
    "from wrapper import MyMLPRawWrapper"
   ]
  },
  {
   "cell_type": "markdown",
   "id": "f73873bb",
   "metadata": {},
   "source": [
    "## Create Model "
   ]
  },
  {
   "cell_type": "code",
   "execution_count": 4,
   "id": "25e33d7b",
   "metadata": {},
   "outputs": [],
   "source": [
    "lm = linearModel()\n",
    "mlp = MLPModel()"
   ]
  },
  {
   "cell_type": "markdown",
   "id": "d86e5ad2",
   "metadata": {},
   "source": [
    "## Algorithme "
   ]
  },
  {
   "cell_type": "code",
   "execution_count": 5,
   "id": "d64b9006",
   "metadata": {},
   "outputs": [],
   "source": [
    "def import_images_and_assign_labels(folder, label, X, Y):\n",
    "    for file in os.listdir(folder):\n",
    "        image_path = os.path.join(folder, file)\n",
    "        im = Image.open(image_path)\n",
    "        im = im.resize((8, 8))\n",
    "        im = im.convert(\"RGB\")\n",
    "        im_arr = np.array(im)\n",
    "        im_arr = np.reshape(im_arr, (8 * 8 * 3))\n",
    "        X.append(im_arr)\n",
    "        Y.append(label)"
   ]
  },
  {
   "cell_type": "code",
   "execution_count": 6,
   "id": "231bcf37",
   "metadata": {},
   "outputs": [],
   "source": [
    "def import_dataset():\n",
    "    dataset_folder = \"../../data/\"\n",
    "    train_folder = os.path.join(dataset_folder, \"train\")\n",
    "    test_folder = os.path.join(dataset_folder, \"test\")\n",
    "\n",
    "    X_train = []\n",
    "    y_train = []\n",
    "    \n",
    "    import_images_and_assign_labels(\n",
    "        os.path.join(train_folder, \"Electro\"), [1,0,0], X_train, y_train\n",
    "    )\n",
    "    import_images_and_assign_labels(\n",
    "        os.path.join(train_folder, \"Metal\"), [0,1,0], X_train, y_train\n",
    "    )\n",
    "    \n",
    "    import_images_and_assign_labels(\n",
    "        os.path.join(train_folder, \"Rap\"), [0,0,1], X_train, y_train\n",
    "    )\n",
    "    \n",
    "    X_test = []\n",
    "    y_test = []\n",
    "    import_images_and_assign_labels(\n",
    "        os.path.join(test_folder, \"Electro\"), [1,0,0], X_test, y_test\n",
    "    )\n",
    "    import_images_and_assign_labels(\n",
    "        os.path.join(test_folder, \"Metal\"), [0,1,0], X_test, y_test\n",
    "    )\n",
    "    \n",
    "    import_images_and_assign_labels(\n",
    "        os.path.join(test_folder, \"Rap\"), [0,0,1], X_test, y_test\n",
    "    )\n",
    "    \n",
    "    return (np.array(X_train) / 255.0, np.array(y_train)), \\\n",
    "           (np.array(X_test) / 255.0, np.array(y_test))"
   ]
  },
  {
   "cell_type": "code",
   "execution_count": 7,
   "id": "520aa5f8",
   "metadata": {},
   "outputs": [],
   "source": [
    "def display_value(array):\n",
    "    print(\"Sur le dataset de Train\")\n",
    "    cpt = 0\n",
    "    number = len(array)/3\n",
    "    for i in array:\n",
    "        print(cpt,\" \",np.argmax(i ),\" \",i)\n",
    "        cpt+=1\n",
    "        if(cpt==number):\n",
    "            cpt=0"
   ]
  },
  {
   "cell_type": "code",
   "execution_count": 22,
   "id": "f0f23452",
   "metadata": {},
   "outputs": [],
   "source": [
    "def percentage_music_style(array):\n",
    "    item1 = 0\n",
    "    item2 = 0\n",
    "    item3 = 0\n",
    "    itemGlobal = 0 \n",
    "    cpt = 0\n",
    "    for i in array:\n",
    "        if cpt<50:\n",
    "            if np.argmax(i) == 0:\n",
    "                item2 += 2\n",
    "        elif cpt<100:\n",
    "            if np.argmax(i) == 1: \n",
    "                item1 += 2\n",
    "        else:\n",
    "            if np.argmax(i) == 2:\n",
    "                item3 +=2\n",
    "        cpt+=1\n",
    "    itemGlobal = round((item1+item2+item3)/3,2)\n",
    "        \n",
    "    print(f\"il y a {item2}% de chanson identifié en électro\")\n",
    "    print(f\"il y a {item1}% de chanson identifié en métal\")\n",
    "    print(f\"il y a {item3}% de chanson identifié en rap\")\n",
    "    print(f\"L'accuracy de notre ia est de {itemGlobal}%\")"
   ]
  },
  {
   "cell_type": "code",
   "execution_count": 9,
   "id": "1a09d914",
   "metadata": {},
   "outputs": [],
   "source": [
    "def my_mean_squared_error(y_true, y_pred):\n",
    "    return np.sum((y_true - y_pred) ** 2) / len(y_true)"
   ]
  },
  {
   "cell_type": "code",
   "execution_count": 24,
   "id": "787d357a",
   "metadata": {},
   "outputs": [],
   "source": [
    "def run_mlp_wrapper():\n",
    "    (X_train, y_train), (X_test, y_test) = import_dataset()\n",
    "    wrapped_model = MyMLPRawWrapper([192,32,32,3], True, 1e-2, 10000)\n",
    "\n",
    "    losses = []\n",
    "    val_losses = []\n",
    "    accs = []\n",
    "    val_accs = []\n",
    "        \n",
    "    for epoch in range(100):\n",
    "        wrapped_model.fit(X_train, y_train)\n",
    "        y_pred = wrapped_model.predict(X_train)\n",
    "        loss = mean_squared_error(y_train, y_pred)\n",
    "        losses.append(loss)\n",
    "        val_y_pred = wrapped_model.predict(X_test)\n",
    "        val_loss = mean_squared_error(y_test, val_y_pred)\n",
    "        val_losses.append(val_loss)\n",
    "\n",
    "        acc = accuracy_score(np.argmax(y_train, axis=1), np.argmax(y_pred, axis=1))\n",
    "        accs.append(acc)\n",
    "\n",
    "        val_acc = accuracy_score(np.argmax(y_test, axis=1), np.argmax(val_y_pred, axis=1))\n",
    "        val_accs.append(val_acc)\n",
    "\n",
    "        clear_output(True)\n",
    "\n",
    "        plt.plot(losses)\n",
    "        plt.plot(val_losses)\n",
    "        plt.legend(['loss', 'val_loss'], loc='upper left')\n",
    "        plt.title('Evolution of loss (MSE)')\n",
    "        plt.xlabel('epochs')\n",
    "        plt.ylabel(f'mean squared error')\n",
    "        plt.show()  \n",
    "\n",
    "        plt.plot(accs)\n",
    "        plt.plot(val_accs)\n",
    "        plt.legend(['acc', 'val_acc'], loc='upper left')\n",
    "        plt.title('Evolution of accuracy')\n",
    "        plt.xlabel('epochs')\n",
    "        plt.ylabel(f'accuracy')\n",
    "        plt.show()\n",
    "        \n",
    "    mlp.save_mlp_classification(wrapped_model.model)"
   ]
  },
  {
   "cell_type": "code",
   "execution_count": 25,
   "id": "12ca602a",
   "metadata": {},
   "outputs": [
    {
     "data": {
      "image/png": "[encoded data removed]",
      "text/plain": [
       "<Figure size 432x288 with 1 Axes>"
      ]
     },
     "metadata": {
      "needs_background": "light"
     },
     "output_type": "display_data"
    },
    {
     "data": {
      "image/png": "[encoded data removed]",
      "text/plain": [
       "<Figure size 432x288 with 1 Axes>"
      ]
     },
     "metadata": {
      "needs_background": "light"
     },
     "output_type": "display_data"
    }
   ],
   "source": [
    "run_mlp_wrapper()"
   ]
  },
  {
   "cell_type": "code",
   "execution_count": 26,
   "id": "ed3bf857",
   "metadata": {},
   "outputs": [],
   "source": [
    "def load_mlp():\n",
    "    (X_train, y_train), (X_test, y_test) = import_dataset()\n",
    "    \n",
    "    resultat2 = mlp.load_mlp_model(\"../../Save/mlp_classification_192_32_32_3_2021723122610.json\")\n",
    "    model2 = resultat2[0]\n",
    "        \n",
    "    predicted_outputs = [mlp.predict_mlp_model_classification(model2, p) for p in X_test]\n",
    "\n",
    "    display_value(predicted_outputs)\n",
    "    percentage_music_style(predicted_outputs)\n",
    "    \n",
    "    mlp.free_MLP(resultat2)"
   ]
  },
  {
   "cell_type": "code",
   "execution_count": 27,
   "id": "57df327a",
   "metadata": {
    "scrolled": false
   },
   "outputs": [
    {
     "name": "stdout",
     "output_type": "stream",
     "text": [
      "Sur le dataset de Train\n",
      "0   0   [0.5936679840087891, 0.19344723224639893, -0.035680755972862244]\n",
      "1   1   [-0.11407874524593353, 0.9706483483314514, 0.030083337798714638]\n",
      "2   2   [-0.17696240544319153, -0.002445320365950465, 0.9321388602256775]\n",
      "3   0   [0.6497563123703003, -0.009687329642474651, 0.476127564907074]\n",
      "4   0   [0.9069769978523254, 0.0029430901631712914, 0.13120359182357788]\n",
      "5   0   [0.955311119556427, -0.013786962255835533, 0.04966336116194725]\n",
      "6   2   [0.23834823071956635, 0.03503195941448212, 0.9576062560081482]\n",
      "7   0   [0.9429502487182617, -0.33678480982780457, -0.4118063449859619]\n",
      "8   0   [0.8246241807937622, 0.07908710092306137, 0.0635622963309288]\n",
      "9   0   [0.8785538077354431, 0.1060681864619255, 0.38126057386398315]\n",
      "10   0   [0.5963665843009949, 0.07343721389770508, 0.21010582149028778]\n",
      "11   0   [0.6918071508407593, 0.018977539613842964, 0.5249119997024536]\n",
      "12   2   [0.6618202924728394, 0.12914104759693146, 0.7466251850128174]\n",
      "13   0   [0.8654367923736572, -0.3803461194038391, 0.16745196282863617]\n",
      "14   0   [0.7861883044242859, 0.34745681285858154, -0.20923247933387756]\n",
      "15   1   [0.11377274990081787, 0.25176993012428284, -0.13486242294311523]\n",
      "16   0   [0.9692330956459045, -0.2803470492362976, 0.5346490740776062]\n",
      "17   1   [0.1791481226682663, 0.666682779788971, 0.16155695915222168]\n",
      "18   2   [-0.06485729664564133, 0.03603792563080788, 0.9529913067817688]\n",
      "19   2   [0.3155520558357239, -0.00708740996196866, 0.6736325621604919]\n",
      "20   1   [-0.09070390462875366, 0.9500955939292908, 0.05664839968085289]\n",
      "21   2   [-0.10353264212608337, 0.016578808426856995, 0.84523606300354]\n",
      "22   0   [0.4685012102127075, 0.36425191164016724, 0.09971794486045837]\n",
      "23   1   [0.10012684762477875, 0.43809494376182556, 0.1286516934633255]\n",
      "24   1   [0.01108657568693161, 0.8695759773254395, 0.0937933400273323]\n",
      "25   2   [-0.0778380036354065, 0.5698407888412476, 0.7127057313919067]\n",
      "26   2   [-0.0034665027633309364, -0.03280537948012352, 0.9534039497375488]\n",
      "27   0   [0.9750093817710876, -0.039325226098299026, 0.07681822031736374]\n",
      "28   2   [-0.1721029132604599, 0.003818642348051071, 0.9694739580154419]\n",
      "29   0   [0.7669046521186829, 0.1057228296995163, 0.06817377358675003]\n",
      "30   0   [0.7639597058296204, 0.15233764052391052, 0.08699436485767365]\n",
      "31   1   [0.10951805859804153, 0.928428053855896, 0.012189976871013641]\n",
      "32   0   [0.9020645618438721, 0.020526297390460968, 0.03865484520792961]\n",
      "33   0   [0.751474916934967, 0.13518662750720978, 0.1005353108048439]\n",
      "34   1   [-0.012607592158019543, 0.7344809770584106, 0.2155177742242813]\n",
      "35   0   [0.7144595980644226, 0.03225134313106537, 0.40535232424736023]\n",
      "36   2   [0.03386123478412628, 0.0016249106265604496, 0.9578753709793091]\n",
      "37   2   [-0.47073012590408325, -0.12630929052829742, 0.9928566217422485]\n",
      "38   1   [0.15093475580215454, 0.8402324914932251, 0.1447925865650177]\n",
      "39   0   [0.8474539518356323, 0.1974596083164215, 0.002482230309396982]\n",
      "40   2   [0.24069641530513763, 0.006445273756980896, 0.8015759587287903]\n",
      "41   1   [0.32801735401153564, 0.7229769229888916, 0.03410452604293823]\n",
      "42   1   [0.06267086416482925, 0.8101927638053894, 0.07163920998573303]\n",
      "43   1   [-0.004355969373136759, 0.7466353178024292, 0.08436474949121475]\n",
      "44   2   [0.2774236798286438, 0.0008277742308564484, 0.7614445686340332]\n",
      "45   0   [0.9796848893165588, -0.05243996903300285, -0.025574469938874245]\n",
      "46   1   [0.14888861775398254, 0.6301196217536926, 0.05589880794286728]\n",
      "47   2   [-0.07267215102910995, 0.025245962664484978, 0.977814793586731]\n",
      "48   2   [-0.0022923608776181936, 0.07531516999006271, 0.7682008147239685]\n",
      "49   1   [-0.07947101444005966, 0.5912445783615112, 0.14055073261260986]\n",
      "0   1   [0.23273879289627075, 0.7353231310844421, 0.07920898497104645]\n",
      "1   1   [-0.019625259563326836, 0.8803879618644714, 0.05720163881778717]\n",
      "2   0   [0.7383237481117249, 0.11924289911985397, 0.020856931805610657]\n",
      "3   1   [0.06788774579763412, 0.9416288137435913, 0.015691185370087624]\n",
      "4   1   [0.007704731542617083, 0.8793624639511108, 0.04684533551335335]\n",
      "5   1   [-0.05547644942998886, 0.9773915410041809, 0.003450379939749837]\n",
      "6   1   [-0.052231866866350174, 0.9754400849342346, 0.006774619687348604]\n",
      "7   1   [-0.04643772542476654, 0.9854828119277954, -0.009793683886528015]\n",
      "8   1   [-0.013514113612473011, 0.8823549151420593, 0.06240265816450119]\n",
      "9   1   [0.021872250363230705, 0.9692456722259521, 0.008803974837064743]\n",
      "10   1   [-0.0383727103471756, 0.9779956340789795, 0.005398816894739866]\n",
      "11   0   [0.7242184281349182, 0.11786963045597076, 0.21692611277103424]\n",
      "12   2   [-0.07981213182210922, 0.04902585223317146, 0.9747779965400696]\n",
      "13   1   [0.009178887121379375, 0.9637916684150696, 0.02317621372640133]\n",
      "14   2   [0.12972986698150635, 0.16602645814418793, 0.676173746585846]\n",
      "15   0   [0.930934488773346, 0.2477802336215973, 0.010172075591981411]\n",
      "16   1   [0.16263727843761444, 0.9481968283653259, 0.017153488472104073]\n",
      "17   0   [0.9648677706718445, 0.10166622698307037, -0.16102318465709686]\n",
      "18   1   [-0.06986735016107559, 0.973207950592041, 0.015740882605314255]\n",
      "19   1   [-0.02459477074444294, 0.9749084115028381, 0.0014064302667975426]\n",
      "20   1   [0.011982642114162445, 0.9760295152664185, -0.013837943784892559]\n",
      "21   2   [0.10073511302471161, 0.08855190128087997, 0.9578876495361328]\n",
      "22   1   [-0.07114529609680176, 0.9803189635276794, 0.006709475070238113]\n",
      "23   2   [-0.023030797019600868, 0.08544205874204636, 0.9345893859863281]\n",
      "24   0   [0.5651840567588806, 0.2942863702774048, 0.04556972533464432]\n",
      "25   2   [0.3309967815876007, 0.018937841057777405, 0.4517556428909302]\n",
      "26   1   [0.3785601854324341, 0.38021013140678406, 0.09058862924575806]\n",
      "27   1   [0.026118803769350052, 0.9685861468315125, -0.0016470536356791854]\n",
      "28   1   [-0.0293323565274477, 0.9631649255752563, 0.009814782068133354]\n",
      "29   1   [-0.11884985119104385, 0.9720125198364258, 0.01752215065062046]\n",
      "30   1   [-0.005278568249195814, 0.9670380353927612, 0.012712330557405949]\n",
      "31   1   [-0.07041923701763153, 0.9729099869728088, 0.004254077095538378]\n",
      "32   1   [0.10271663218736649, 0.963058352470398, -0.006779507268220186]\n",
      "33   1   [0.010797199793159962, 0.9720046520233154, -0.00018388032913208008]\n",
      "34   1   [-0.07691462337970734, 0.9117633700370789, 0.0558188296854496]\n",
      "35   2   [-0.07981213182210922, 0.04902585223317146, 0.9747779965400696]\n",
      "36   1   [0.019784461706876755, 0.9595960378646851, 0.01301304530352354]\n",
      "37   1   [0.009178887121379375, 0.9637916684150696, 0.02317621372640133]\n",
      "38   1   [0.159572571516037, 0.8069169521331787, 0.04139327630400658]\n",
      "39   1   [-0.007291545160114765, 0.9682604670524597, 0.013098920695483685]\n",
      "40   1   [0.02234700694680214, 0.9663465023040771, 0.012640339322388172]\n",
      "41   1   [-0.027145808562636375, 0.9768476486206055, -0.0008872149046510458]\n",
      "42   1   [-0.046212635934352875, 0.9767117500305176, 4.792213439941406e-05]\n",
      "43   2   [0.3742189109325409, -0.32878777384757996, 0.9968705177307129]\n",
      "44   2   [0.37786731123924255, 0.0015539514133706689, 0.7745471596717834]\n",
      "45   1   [0.019203655421733856, 0.9693439602851868, 0.0020230384543538094]\n",
      "46   1   [0.11038636416196823, 0.969319760799408, -0.003840606426820159]\n",
      "47   1   [-0.004478096961975098, 0.9722068905830383, 0.0042285071685910225]\n",
      "48   1   [0.003900090930983424, 0.9725551605224609, -0.0015466796467080712]\n",
      "49   1   [-0.020516913384199142, 0.7040144801139832, 0.09878116101026535]\n",
      "0   2   [-1.6629695892333984e-05, 0.02870981954038143, 0.9335447549819946]\n",
      "1   2   [0.07677499949932098, -0.016906557604670525, 0.9716114401817322]\n",
      "2   2   [0.2686392664909363, 0.08602603524923325, 0.8322023749351501]\n",
      "3   0   [0.9039631485939026, 0.020683564245700836, 0.4996411204338074]\n",
      "4   0   [0.8493767976760864, 0.21512624621391296, 0.07667873799800873]\n",
      "5   2   [-0.06497760862112045, 0.03747529909014702, 0.9790531396865845]\n",
      "6   2   [0.11259501427412033, -0.028452329337596893, 0.9733855724334717]\n",
      "7   2   [-0.08359626680612564, 0.04450581595301628, 0.9781619906425476]\n",
      "8   1   [-0.09852161258459091, 0.5949729084968567, 0.32018840312957764]\n",
      "9   2   [0.5683732032775879, -0.2576545476913452, 0.7894152998924255]\n",
      "10   2   [0.23087798058986664, 0.06917702406644821, 0.9396353960037231]\n",
      "11   2   [0.036776550114154816, -0.006673430558294058, 0.9752835035324097]\n",
      "12   2   [0.05033494532108307, -0.018912354484200478, 0.971477746963501]\n",
      "13   2   [0.14981965720653534, 0.3031449317932129, 0.8644907474517822]\n",
      "14   2   [0.6669596433639526, -0.015163958072662354, 0.6903751492500305]\n",
      "15   2   [0.24551589787006378, 0.002186220372095704, 0.7539255619049072]\n",
      "16   0   [0.520384669303894, 0.11107603460550308, 0.33865222334861755]\n",
      "17   2   [-0.08546365052461624, 0.04170546680688858, 0.9561147689819336]\n",
      "18   2   [-0.0004542171664070338, 0.011085934937000275, 0.9739794731140137]\n",
      "19   0   [0.8588328957557678, 0.10805545747280121, 0.05197557806968689]\n",
      "20   2   [-0.010476890951395035, 0.03442459926009178, 0.9736864566802979]\n",
      "21   2   [-0.10377929359674454, 0.07972072064876556, 0.958559513092041]\n",
      "22   0   [0.8180030584335327, 0.19089365005493164, 0.21030621230602264]\n",
      "23   2   [-0.07620030641555786, 0.022814292460680008, 0.7102893590927124]\n",
      "24   2   [-0.07233578711748123, 0.03755877539515495, 0.9552371501922607]\n",
      "25   2   [-0.11452289670705795, 0.015082363039255142, 0.9557216167449951]\n",
      "26   0   [0.9374496340751648, 0.029774624854326248, 0.04711831733584404]\n",
      "27   2   [-0.09018905460834503, 0.04060048609972, 0.9739035367965698]\n",
      "28   2   [-0.08660098165273666, 0.043878987431526184, 0.9775350093841553]\n",
      "29   2   [-0.44053056836128235, 0.23290574550628662, 0.3875131607055664]\n",
      "30   2   [-0.14510159194469452, 0.01779910735785961, 0.9809478521347046]\n",
      "31   2   [0.1013316735625267, 0.10566394031047821, 0.9572386741638184]\n",
      "32   2   [0.09789251536130905, 0.007351236417889595, 0.7032334804534912]\n",
      "33   2   [0.2365873008966446, 0.08072207123041153, 0.4292563796043396]\n",
      "34   2   [0.15020990371704102, 0.08859366923570633, 0.5175192356109619]\n",
      "35   2   [0.30839231610298157, -0.06549368053674698, 0.787480354309082]\n",
      "36   2   [-0.012718617916107178, 0.006053686607629061, 0.9658182263374329]\n",
      "37   0   [0.7174192667007446, 0.025217296555638313, 0.441875696182251]\n",
      "38   2   [-0.08633455634117126, 0.06246981397271156, 0.9677889943122864]\n",
      "39   2   [0.050183482468128204, 0.0438777357339859, 0.8856723308563232]\n",
      "40   0   [0.9564688801765442, 0.05012856423854828, 0.19307224452495575]\n",
      "41   2   [-0.023963363841176033, 0.03966015949845314, 0.9719023704528809]\n",
      "42   0   [0.891609251499176, 0.06154485046863556, 0.754953145980835]\n",
      "43   2   [0.41319912672042847, 0.050772614777088165, 0.662716269493103]\n",
      "44   2   [-0.04856470227241516, 0.029666194692254066, 0.9784612059593201]\n",
      "45   0   [0.9606844186782837, -0.228083074092865, -0.22289377450942993]\n",
      "46   2   [-0.08434326201677322, 0.04723528400063515, 0.9747123122215271]\n",
      "47   2   [-0.014628886245191097, 0.04128583148121834, 0.9422597885131836]\n",
      "48   2   [0.13695798814296722, 0.030150793492794037, 0.9174925088882446]\n",
      "49   2   [0.0695701539516449, 0.007649749517440796, 0.9548413157463074]\n",
      "il y a 42% de chanson identifié en électro\n",
      "il y a 74% de chanson identifié en métal\n",
      "il y a 78% de chanson identifié en rap\n",
      "L'accuracy de notre ia est de 64.67%\n"
     ]
    }
   ],
   "source": [
    "load_mlp()"
   ]
  },
  {
   "cell_type": "raw",
   "id": "cbc8f323",
   "metadata": {},
   "source": [
    "def run_mlp():\n",
    "    (X_train, y_train), (X_test, y_test) = import_dataset()\n",
    "    \n",
    "    resultat1 = mlp.create_mlp_model([192,32,32,3])\n",
    "    model1 = resultat1[0]\n",
    "        \n",
    "    flattened_dataset_inputs = []\n",
    "    for p in X_train:\n",
    "        for i in p:\n",
    "            flattened_dataset_inputs.append(i)\n",
    "            \n",
    "    flattened_dataset_outputs = []\n",
    "    for p in y_train:\n",
    "        for i in p:\n",
    "            flattened_dataset_outputs.append(i)\n",
    "   \n",
    "    mlp.train_classification_stochastic_gradient_backpropagation(model1,\n",
    "                                                                flattened_dataset_inputs,\n",
    "                                                                flattened_dataset_outputs,\n",
    "                                                                alpha=1e-2,\n",
    "                                                                iterations_count=100000)\n",
    "\n",
    "    predicted_outputs = [mlp.predict_mlp_model_classification(model1, p) for p in X_test]\n",
    "    \n",
    "\n",
    "        \n",
    "    display_value(predicted_outputs)\n",
    "    percentage_music_style(predicted_outputs)\n",
    "    #mlp.save_mlp_classification(model1)\n",
    "    \n",
    "    mlp.free_MLP(resultat1)"
   ]
  },
  {
   "cell_type": "raw",
   "id": "c87fc828",
   "metadata": {},
   "source": [
    "run_mlp()"
   ]
  },
  {
   "cell_type": "code",
   "execution_count": null,
   "id": "4d4c7e6f",
   "metadata": {},
   "outputs": [],
   "source": []
  }
 ],
 "metadata": {
  "kernelspec": {
   "display_name": "Python 3",
   "language": "python",
   "name": "python3"
  },
  "language_info": {
   "codemirror_mode": {
    "name": "ipython",
    "version": 3
   },
   "file_extension": ".py",
   "mimetype": "text/x-python",
   "name": "python",
   "nbconvert_exporter": "python",
   "pygments_lexer": "ipython3",
   "version": "3.8.10"
  }
 },
 "nbformat": 4,
 "nbformat_minor": 5
}
