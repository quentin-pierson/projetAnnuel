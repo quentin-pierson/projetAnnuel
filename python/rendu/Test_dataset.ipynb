{
 "cells": [
  {
   "cell_type": "markdown",
   "id": "af3e51c6",
   "metadata": {},
   "source": [
    "# <center> <span style=\"color:red\">Music recognition </span> </center>"
   ]
  },
  {
   "cell_type": "markdown",
   "id": "1416398c",
   "metadata": {},
   "source": [
    "The purpose of this notebook is to take in music spectrograms and to recognize musical genres"
   ]
  },
  {
   "cell_type": "markdown",
   "id": "2e48de13",
   "metadata": {},
   "source": [
    "## Import "
   ]
  },
  {
   "cell_type": "code",
   "execution_count": 1,
   "id": "f8db9765",
   "metadata": {},
   "outputs": [],
   "source": [
    "import os\n",
    "import numpy as np\n",
    "from PIL import Image\n",
    "import matplotlib.pyplot as plt\n",
    "from sklearn.metrics import accuracy_score"
   ]
  },
  {
   "cell_type": "markdown",
   "id": "89c478d7",
   "metadata": {},
   "source": [
    "## Import Model Linear and MLP "
   ]
  },
  {
   "cell_type": "code",
   "execution_count": 2,
   "id": "d1d1cd11",
   "metadata": {},
   "outputs": [],
   "source": [
    "import sys  \n",
    "sys.path.insert(0, '../../python')\n",
    "\n",
    "from linearModel import linearModel\n",
    "from mlp import MLPModel"
   ]
  },
  {
   "cell_type": "markdown",
   "id": "49092ab7",
   "metadata": {},
   "source": [
    "## Create Model "
   ]
  },
  {
   "cell_type": "code",
   "execution_count": 3,
   "id": "03cd9aae",
   "metadata": {},
   "outputs": [],
   "source": [
    "lm = linearModel()\n",
    "mlp = MLPModel()"
   ]
  },
  {
   "cell_type": "markdown",
   "id": "ab204128",
   "metadata": {},
   "source": [
    "## Algorithme "
   ]
  },
  {
   "cell_type": "code",
   "execution_count": 4,
   "id": "48c6e03c",
   "metadata": {},
   "outputs": [],
   "source": [
    "def import_images_and_assign_labels(folder, label, X, Y):\n",
    "    for file in os.listdir(folder):\n",
    "        image_path = os.path.join(folder, file)\n",
    "        im = Image.open(image_path)\n",
    "        im = im.resize((8, 8))\n",
    "        im = im.convert(\"RGB\")\n",
    "        im_arr = np.array(im)\n",
    "        im_arr = np.reshape(im_arr, (8 * 8 * 3))\n",
    "        X.append(im_arr)\n",
    "        Y.append(label)"
   ]
  },
  {
   "cell_type": "code",
   "execution_count": 5,
   "id": "7b1e6e1a",
   "metadata": {},
   "outputs": [],
   "source": [
    "def import_dataset():\n",
    "    dataset_folder = \"G:/Programmes/Python/projetAnnuel/data/\"\n",
    "    train_folder = os.path.join(dataset_folder, \"train\")\n",
    "    test_folder = os.path.join(dataset_folder, \"test\")\n",
    "\n",
    "    X_train = []\n",
    "    y_train = []\n",
    "    \n",
    "    import_images_and_assign_labels(\n",
    "        os.path.join(train_folder, \"Electro\"), [1,0,0], X_train, y_train\n",
    "    )\n",
    "    import_images_and_assign_labels(\n",
    "        os.path.join(train_folder, \"Metal\"), [0,1,0], X_train, y_train\n",
    "    )\n",
    "    \n",
    "    import_images_and_assign_labels(\n",
    "        os.path.join(train_folder, \"Rap\"), [0,0,1], X_train, y_train\n",
    "    )\n",
    "    \n",
    "    X_test = []\n",
    "    y_test = []\n",
    "    import_images_and_assign_labels(\n",
    "        os.path.join(test_folder, \"Electro\"), [1,0,0], X_test, y_test\n",
    "    )\n",
    "    import_images_and_assign_labels(\n",
    "        os.path.join(test_folder, \"Metal\"), [0,1,0], X_test, y_test\n",
    "    )\n",
    "    \n",
    "    import_images_and_assign_labels(\n",
    "        os.path.join(test_folder, \"Rap\"), [0,0,1], X_test, y_test\n",
    "    )\n",
    "    \n",
    "    return (np.array(X_train) / 255.0, np.array(y_train)), \\\n",
    "           (np.array(X_test) / 255.0, np.array(y_test))"
   ]
  },
  {
   "cell_type": "code",
   "execution_count": 6,
   "id": "c450f543",
   "metadata": {},
   "outputs": [],
   "source": [
    "def display_value(array):\n",
    "    print(\"Sur le dataset de Train\")\n",
    "    cpt = 0\n",
    "    number = len(array)/3\n",
    "    for i in array:\n",
    "        print(cpt,\" \",np.argmax(i),\" \",i)\n",
    "        cpt+=1\n",
    "        if(cpt==number):\n",
    "            cpt=0"
   ]
  },
  {
   "cell_type": "code",
   "execution_count": 7,
   "id": "907da3a6",
   "metadata": {},
   "outputs": [],
   "source": [
    "def percentage_music_style(array):\n",
    "    item1 = 0\n",
    "    item2 = 0\n",
    "    item3 = 0\n",
    "    itemGlobal = 0 \n",
    "    cpt = 0\n",
    "    for i in array:\n",
    "        if cpt<10:\n",
    "            if np.argmax(i) == 0:\n",
    "                item2 += 10\n",
    "        elif cpt<20:\n",
    "            if np.argmax(i) == 1: \n",
    "                item1 += 10\n",
    "        else:\n",
    "            if np.argmax(i) == 2:\n",
    "                item3 +=10\n",
    "        cpt+=1\n",
    "    itemGlobal = round((item1+item2+item3)/3,2)\n",
    "        \n",
    "    print(f\"il y a {item2}% de chanson identifié en électro\")\n",
    "    print(f\"il y a {item1}% de chanson identifié en métal\")\n",
    "    print(f\"il y a {item3}% de chanson identifié en rap\")\n",
    "    print(f\"L'accuracy de notre ia est de {itemGlobal}%\")"
   ]
  },
  {
   "cell_type": "code",
   "execution_count": 12,
   "id": "4a3c7b82",
   "metadata": {},
   "outputs": [],
   "source": [
    "def run_mlp():\n",
    "    (X_train, y_train), (X_test, y_test) = import_dataset()\n",
    "    \n",
    "    resultat1 = mlp.create_mlp_model([192,4,4,3])\n",
    "    model1 = resultat1[0]\n",
    "        \n",
    "    flattened_dataset_inputs = []\n",
    "    for p in X_train:\n",
    "        for i in p:\n",
    "            flattened_dataset_inputs.append(i)\n",
    "            \n",
    "    flattened_dataset_outputs = []\n",
    "    for p in y_train:\n",
    "        for i in p:\n",
    "            flattened_dataset_outputs.append(i)\n",
    "   \n",
    "    mlp.train_classification_stochastic_gradient_backpropagation(model1,\n",
    "                                                                flattened_dataset_inputs,\n",
    "                                                                flattened_dataset_outputs,\n",
    "                                                                alpha=1e-3,\n",
    "                                                                iterations_count=200000)\n",
    "\n",
    "    predicted_outputs = [mlp.predict_mlp_model_classification(model1, p) for p in X_test]\n",
    "    \n",
    "\n",
    "        \n",
    "    #print(predicted_outputs)\n",
    "    display_value(predicted_outputs)\n",
    "    percentage_music_style(predicted_outputs)\n",
    "    print(\"predicted_outputs\",predicted_outputs)\n",
    "#     mlp.save_mlp_classification(model1)\n",
    "    \n",
    "    mlp.free_MLP(resultat1)"
   ]
  },
  {
   "cell_type": "code",
   "execution_count": 13,
   "id": "b8bbba71",
   "metadata": {
    "scrolled": false
   },
   "outputs": [
    {
     "name": "stdout",
     "output_type": "stream",
     "text": [
      "Sur le dataset de Train\n",
      "0   2   [0.3007718324661255, 0.2677639126777649, 0.5218936204910278]\n",
      "1   1   [0.4475941061973572, 0.5317878127098083, -0.015076403506100178]\n",
      "2   1   [0.44273674488067627, 0.5199840068817139, 0.016710126772522926]\n",
      "3   2   [0.09242604672908783, -0.07290969789028168, 0.8096753358840942]\n",
      "4   2   [0.3121228814125061, 0.28903356194496155, 0.48498955368995667]\n",
      "5   2   [0.12888234853744507, -0.017648987472057343, 0.7851033806800842]\n",
      "6   2   [0.2346423715353012, 0.15503303706645966, 0.6553587913513184]\n",
      "7   1   [0.4518733620643616, 0.5415374636650085, -0.03815017268061638]\n",
      "8   1   [0.42962419986724854, 0.5029703378677368, 0.04014020785689354]\n",
      "9   1   [0.44799622893333435, 0.5347030162811279, -0.024907011538743973]\n",
      "0   1   [0.45650771260261536, 0.5539143085479736, -0.06528174132108688]\n",
      "1   1   [0.4520954191684723, 0.5433770418167114, -0.04378075525164604]\n",
      "2   1   [0.44453760981559753, 0.5278515815734863, -0.009785131551325321]\n",
      "3   1   [0.4507449269294739, 0.5423948168754578, -0.044019099324941635]\n",
      "4   1   [0.45511069893836975, 0.5491246581077576, -0.054665300995111465]\n",
      "5   1   [0.4365812838077545, 0.5085636973381042, 0.04341922327876091]\n",
      "6   2   [0.1930997371673584, 0.08552709966897964, 0.7178364992141724]\n",
      "7   2   [0.1779237985610962, 0.07722397893667221, 0.7018260359764099]\n",
      "8   1   [0.40030723810195923, 0.4427490830421448, 0.19794778525829315]\n",
      "9   2   [0.34546446800231934, 0.34577226638793945, 0.3958015441894531]\n",
      "0   2   [0.20628522336483002, 0.10755114257335663, 0.6987883448600769]\n",
      "1   2   [0.22697527706623077, 0.14172740280628204, 0.6695225238800049]\n",
      "2   2   [0.16842402517795563, 0.039913278073072433, 0.7660840749740601]\n",
      "3   2   [0.21281307935714722, 0.1161244586110115, 0.6985896825790405]\n",
      "4   1   [0.3884226381778717, 0.42238277196884155, 0.2404816597700119]\n",
      "5   2   [0.18327708542346954, 0.06527232378721237, 0.7450569868087769]\n",
      "6   2   [0.2842402756214142, 0.2445695996284485, 0.5358749628067017]\n",
      "7   2   [0.1311715841293335, -0.01945716328918934, 0.7998126745223999]\n",
      "8   1   [0.4510459005832672, 0.5361267328262329, -0.020743001252412796]\n",
      "9   2   [0.22785359621047974, 0.14073535799980164, 0.6785075664520264]\n",
      "il y a 0% de chanson identifié en électro\n",
      "il y a 70% de chanson identifié en métal\n",
      "il y a 80% de chanson identifié en rap\n",
      "L'accuracy de notre ia est de 50.0%\n",
      "predicted_outputs [[0.3007718324661255, 0.2677639126777649, 0.5218936204910278], [0.4475941061973572, 0.5317878127098083, -0.015076403506100178], [0.44273674488067627, 0.5199840068817139, 0.016710126772522926], [0.09242604672908783, -0.07290969789028168, 0.8096753358840942], [0.3121228814125061, 0.28903356194496155, 0.48498955368995667], [0.12888234853744507, -0.017648987472057343, 0.7851033806800842], [0.2346423715353012, 0.15503303706645966, 0.6553587913513184], [0.4518733620643616, 0.5415374636650085, -0.03815017268061638], [0.42962419986724854, 0.5029703378677368, 0.04014020785689354], [0.44799622893333435, 0.5347030162811279, -0.024907011538743973], [0.45650771260261536, 0.5539143085479736, -0.06528174132108688], [0.4520954191684723, 0.5433770418167114, -0.04378075525164604], [0.44453760981559753, 0.5278515815734863, -0.009785131551325321], [0.4507449269294739, 0.5423948168754578, -0.044019099324941635], [0.45511069893836975, 0.5491246581077576, -0.054665300995111465], [0.4365812838077545, 0.5085636973381042, 0.04341922327876091], [0.1930997371673584, 0.08552709966897964, 0.7178364992141724], [0.1779237985610962, 0.07722397893667221, 0.7018260359764099], [0.40030723810195923, 0.4427490830421448, 0.19794778525829315], [0.34546446800231934, 0.34577226638793945, 0.3958015441894531], [0.20628522336483002, 0.10755114257335663, 0.6987883448600769], [0.22697527706623077, 0.14172740280628204, 0.6695225238800049], [0.16842402517795563, 0.039913278073072433, 0.7660840749740601], [0.21281307935714722, 0.1161244586110115, 0.6985896825790405], [0.3884226381778717, 0.42238277196884155, 0.2404816597700119], [0.18327708542346954, 0.06527232378721237, 0.7450569868087769], [0.2842402756214142, 0.2445695996284485, 0.5358749628067017], [0.1311715841293335, -0.01945716328918934, 0.7998126745223999], [0.4510459005832672, 0.5361267328262329, -0.020743001252412796], [0.22785359621047974, 0.14073535799980164, 0.6785075664520264]]\n"
     ]
    }
   ],
   "source": [
    "run_mlp()"
   ]
  },
  {
   "cell_type": "code",
   "execution_count": 10,
   "id": "127f93c6",
   "metadata": {},
   "outputs": [],
   "source": [
    "def load_mlp():\n",
    "    (X_train, y_train), (X_test, y_test) = import_dataset()\n",
    "    \n",
    "    resultat2 = mlp.load_mlp_model(\"../../Save/mlp_192_4_4_4_3_classification_2021717234718.json\")\n",
    "    model2 = resultat2[0]\n",
    "        \n",
    "    predicted_outputs = [mlp.predict_mlp_model_classification(model2, p) for p in X_test]\n",
    "\n",
    "    display_value(predicted_outputs)\n",
    "    percentage_music_style(predicted_outputs)\n",
    "    \n",
    "    mlp.free_MLP(resultat2)"
   ]
  },
  {
   "cell_type": "code",
   "execution_count": 11,
   "id": "244eaddf",
   "metadata": {},
   "outputs": [
    {
     "name": "stdout",
     "output_type": "stream",
     "text": [
      "Sur le dataset de Train\n",
      "0   0   [0.8075122833251953, 0.048556555062532425, 0.05690764635801315]\n",
      "1   0   [0.7278856039047241, 0.08244484663009644, 0.15438894927501678]\n",
      "2   0   [0.6801071166992188, 0.42613130807876587, 0.01486883219331503]\n",
      "3   2   [0.07987909018993378, 0.08412139117717743, 0.9121149182319641]\n",
      "4   0   [0.6726241111755371, 0.08840977400541306, 0.224213644862175]\n",
      "5   2   [0.0796002522110939, 0.08535412698984146, 0.912695050239563]\n",
      "6   2   [0.28025054931640625, 0.023924939334392548, 0.6956740021705627]\n",
      "7   0   [0.8180463314056396, 0.05788940191268921, 0.03643370792269707]\n",
      "8   0   [0.7101330161094666, 0.36984747648239136, 0.017267199233174324]\n",
      "9   0   [0.8019040822982788, 0.05261043831706047, 0.06509718298912048]\n",
      "0   1   [0.2124222069978714, 0.8279378414154053, -0.0017302242340520024]\n",
      "1   1   [0.3571777045726776, 0.7574736475944519, 0.0011300737969577312]\n",
      "2   1   [0.026502005755901337, 0.9066774845123291, 0.006271928083151579]\n",
      "3   1   [0.024324268102645874, 0.9055659174919128, 0.005639404058456421]\n",
      "4   1   [0.029582181945443153, 0.8956602811813354, 0.0016059787012636662]\n",
      "5   1   [0.15543918311595917, 0.8499505519866943, -0.0021319729276001453]\n",
      "6   2   [0.0918162614107132, 0.03917720541357994, 0.8848764300346375]\n",
      "7   2   [0.07945295423269272, 0.07865945249795914, 0.9099666476249695]\n",
      "8   1   [0.27320045232772827, 0.8013179302215576, -0.0008118150872178376]\n",
      "9   0   [0.7981385588645935, 0.054188523441553116, 0.0687086284160614]\n",
      "0   2   [0.12109295278787613, 0.01685858890414238, 0.8513790965080261]\n",
      "1   2   [0.12619522213935852, 0.014093121513724327, 0.8451836109161377]\n",
      "2   2   [0.3887481391429901, 0.046776898205280304, 0.575237512588501]\n",
      "3   2   [0.12162026017904282, 0.016996236518025398, 0.8511612415313721]\n",
      "4   2   [0.31384602189064026, 0.030110880732536316, 0.6583125591278076]\n",
      "5   2   [0.10307015478610992, 0.025103062391281128, 0.8693505525588989]\n",
      "6   0   [0.677595853805542, 0.08907081186771393, 0.21999098360538483]\n",
      "7   2   [0.0815199762582779, 0.06081933155655861, 0.901159405708313]\n",
      "8   2   [0.31541547179222107, 0.030547067523002625, 0.6568907499313354]\n",
      "9   2   [0.09596893191337585, 0.031276095658540726, 0.8776261806488037]\n",
      "il y a 70% de chanson identifié en électro\n",
      "il y a 70% de chanson identifié en métal\n",
      "il y a 90% de chanson identifié en rap\n",
      "L'accuracy de notre ia est de 76.67%\n"
     ]
    }
   ],
   "source": [
    "load_mlp()"
   ]
  },
  {
   "cell_type": "code",
   "execution_count": null,
   "id": "79063614",
   "metadata": {},
   "outputs": [],
   "source": []
  }
 ],
 "metadata": {
  "kernelspec": {
   "display_name": "Python 3",
   "language": "python",
   "name": "python3"
  },
  "language_info": {
   "codemirror_mode": {
    "name": "ipython",
    "version": 3
   },
   "file_extension": ".py",
   "mimetype": "text/x-python",
   "name": "python",
   "nbconvert_exporter": "python",
   "pygments_lexer": "ipython3",
   "version": "3.8.8"
  }
 },
 "nbformat": 4,
 "nbformat_minor": 5
}
