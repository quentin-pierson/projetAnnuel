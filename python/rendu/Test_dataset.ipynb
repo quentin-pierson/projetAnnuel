{
 "cells": [
  {
   "cell_type": "markdown",
   "id": "af3e51c6",
   "metadata": {},
   "source": [
    "# <center> <span style=\"color:red\">Music recognition </span> </center>"
   ]
  },
  {
   "cell_type": "markdown",
   "id": "1416398c",
   "metadata": {},
   "source": [
    "The purpose of this notebook is to take in music spectrograms and to recognize musical genres"
   ]
  },
  {
   "cell_type": "markdown",
   "id": "2e48de13",
   "metadata": {},
   "source": [
    "## Import "
   ]
  },
  {
   "cell_type": "code",
   "execution_count": 1,
   "id": "f8db9765",
   "metadata": {},
   "outputs": [],
   "source": [
    "import os\n",
    "import numpy as np\n",
    "from PIL import Image\n",
    "import matplotlib.pyplot as plt\n",
    "from sklearn.metrics import accuracy_score"
   ]
  },
  {
   "cell_type": "markdown",
   "id": "89c478d7",
   "metadata": {},
   "source": [
    "## Import Model Linear and MLP "
   ]
  },
  {
   "cell_type": "code",
   "execution_count": 2,
   "id": "d1d1cd11",
   "metadata": {},
   "outputs": [],
   "source": [
    "import sys  \n",
    "sys.path.insert(0, '../../python')\n",
    "\n",
    "from linearModel import linearModel\n",
    "from mlp import MLPModel"
   ]
  },
  {
   "cell_type": "markdown",
   "id": "49092ab7",
   "metadata": {},
   "source": [
    "## Create Model "
   ]
  },
  {
   "cell_type": "code",
   "execution_count": 3,
   "id": "03cd9aae",
   "metadata": {},
   "outputs": [],
   "source": [
    "lm = linearModel()\n",
    "mlp = MLPModel()"
   ]
  },
  {
   "cell_type": "markdown",
   "id": "ab204128",
   "metadata": {},
   "source": [
    "## Algorithme "
   ]
  },
  {
   "cell_type": "code",
   "execution_count": 4,
   "id": "48c6e03c",
   "metadata": {},
   "outputs": [],
   "source": [
    "def import_images_and_assign_labels(folder, label, X, Y):\n",
    "    for file in os.listdir(folder):\n",
    "        image_path = os.path.join(folder, file)\n",
    "        im = Image.open(image_path)\n",
    "        im = im.resize((8, 8))\n",
    "        im = im.convert(\"RGB\")\n",
    "        im_arr = np.array(im)\n",
    "        im_arr = np.reshape(im_arr, (8 * 8 * 3))\n",
    "        X.append(im_arr)\n",
    "        Y.append(label)"
   ]
  },
  {
   "cell_type": "code",
   "execution_count": 5,
   "id": "7b1e6e1a",
   "metadata": {},
   "outputs": [],
   "source": [
    "def import_dataset():\n",
    "    dataset_folder = \"G:/Programmes/Python/projetAnnuel/data/\"\n",
    "    train_folder = os.path.join(dataset_folder, \"train\")\n",
    "    test_folder = os.path.join(dataset_folder, \"test\")\n",
    "\n",
    "    X_train = []\n",
    "    y_train = []\n",
    "    \n",
    "    import_images_and_assign_labels(\n",
    "        os.path.join(train_folder, \"Electro\"), [1,0,0], X_train, y_train\n",
    "    )\n",
    "    import_images_and_assign_labels(\n",
    "        os.path.join(train_folder, \"Metal\"), [0,1,0], X_train, y_train\n",
    "    )\n",
    "    \n",
    "    import_images_and_assign_labels(\n",
    "        os.path.join(train_folder, \"Rap\"), [0,0,1], X_train, y_train\n",
    "    )\n",
    "    \n",
    "    X_test = []\n",
    "    y_test = []\n",
    "    import_images_and_assign_labels(\n",
    "        os.path.join(test_folder, \"Electro\"), [1,0,0], X_test, y_test\n",
    "    )\n",
    "    import_images_and_assign_labels(\n",
    "        os.path.join(test_folder, \"Metal\"), [0,1,0], X_test, y_test\n",
    "    )\n",
    "    \n",
    "    import_images_and_assign_labels(\n",
    "        os.path.join(test_folder, \"Rap\"), [0,0,1], X_test, y_test\n",
    "    )\n",
    "    \n",
    "    return (np.array(X_train) / 255.0, np.array(y_train)), \\\n",
    "           (np.array(X_test) / 255.0, np.array(y_test))"
   ]
  },
  {
   "cell_type": "code",
   "execution_count": 6,
   "id": "c450f543",
   "metadata": {},
   "outputs": [],
   "source": [
    "def display_value(array):\n",
    "    print(\"Sur le dataset de Train\")\n",
    "    cpt = 0\n",
    "    number = len(array)/3\n",
    "    for i in array:\n",
    "        print(cpt,\" \",np.argmax(i ),\" \",i)\n",
    "        cpt+=1\n",
    "        if(cpt==number):\n",
    "            cpt=0"
   ]
  },
  {
   "cell_type": "code",
   "execution_count": 7,
   "id": "907da3a6",
   "metadata": {},
   "outputs": [],
   "source": [
    "def percentage_music_style(array):\n",
    "    item1 = 0\n",
    "    item2 = 0\n",
    "    item3 = 0\n",
    "    itemGlobal = 0 \n",
    "    cpt = 0\n",
    "    for i in array:\n",
    "        if cpt<10:\n",
    "            if np.argmax(i) == 0:\n",
    "                item2 += 10\n",
    "        elif cpt<20:\n",
    "            if np.argmax(i) == 1: \n",
    "                item1 += 10\n",
    "        else:\n",
    "            if np.argmax(i) == 2:\n",
    "                item3 +=10\n",
    "        cpt+=1\n",
    "    itemGlobal = round((item1+item2+item3)/3,2)\n",
    "        \n",
    "    print(f\"il y a {item2}% de chanson identifié en électro\")\n",
    "    print(f\"il y a {item1}% de chanson identifié en métal\")\n",
    "    print(f\"il y a {item3}% de chanson identifié en rap\")\n",
    "    print(f\"L'accuracy de notre ia est de {itemGlobal}%\")"
   ]
  },
  {
   "cell_type": "code",
   "execution_count": 8,
   "id": "4a3c7b82",
   "metadata": {},
   "outputs": [],
   "source": [
    "def run_mlp():\n",
    "    (X_train, y_train), (X_test, y_test) = import_dataset()\n",
    "    \n",
    "    resultat1 = mlp.create_mlp_model([192,4,4,3])\n",
    "    model1 = resultat1[0]\n",
    "        \n",
    "    flattened_dataset_inputs = []\n",
    "    for p in X_train:\n",
    "        for i in p:\n",
    "            flattened_dataset_inputs.append(i)\n",
    "            \n",
    "    flattened_dataset_outputs = []\n",
    "    for p in y_train:\n",
    "        for i in p:\n",
    "            flattened_dataset_outputs.append(i)\n",
    "   \n",
    "    mlp.train_classification_stochastic_gradient_backpropagation(model1,\n",
    "                                                                flattened_dataset_inputs,\n",
    "                                                                flattened_dataset_outputs,\n",
    "                                                                alpha=1e-3,\n",
    "                                                                iterations_count=200000)\n",
    "\n",
    "    predicted_outputs = [mlp.predict_mlp_model_classification(model1, p) for p in X_test]\n",
    "    \n",
    "\n",
    "        \n",
    "    #print(predicted_outputs)\n",
    "    display_value(predicted_outputs)\n",
    "    percentage_music_style(predicted_outputs)\n",
    "    print(\"predicted_outputs\",predicted_outputs)\n",
    "    mlp.save_mlp_classification(model1)\n",
    "    \n",
    "    mlp.free_MLP(resultat1)"
   ]
  },
  {
   "cell_type": "code",
   "execution_count": 9,
   "id": "b8bbba71",
   "metadata": {
    "scrolled": false
   },
   "outputs": [
    {
     "name": "stdout",
     "output_type": "stream",
     "text": [
      "Sur le dataset de Train\n",
      "0   0   [0.4315303564071655, 0.4276469349861145, 0.1317358911037445]\n",
      "1   1   [0.4367524981498718, 0.5217657089233398, 0.006316592916846275]\n",
      "2   1   [0.43107694387435913, 0.5840258598327637, -0.05075989291071892]\n",
      "3   2   [0.12721529603004456, 0.023202605545520782, 0.7907998561859131]\n",
      "4   0   [0.39748361706733704, 0.2787376344203949, 0.3686962425708771]\n",
      "5   2   [0.1181141585111618, 0.021811973303556442, 0.7950934171676636]\n",
      "6   2   [0.38726383447647095, 0.2508661150932312, 0.4140256345272064]\n",
      "7   1   [0.4351346492767334, 0.5518330931663513, -0.02477031759917736]\n",
      "8   1   [0.4329368770122528, 0.5717795491218567, -0.041890472173690796]\n",
      "9   1   [0.4297352731227875, 0.5915180444717407, -0.05552801489830017]\n",
      "0   1   [0.421970397233963, 0.6233998537063599, -0.06902828812599182]\n",
      "1   1   [0.42765989899635315, 0.6015493869781494, -0.06098765507340431]\n",
      "2   1   [0.4292947053909302, 0.5937609672546387, -0.056822389364242554]\n",
      "3   1   [0.42115920782089233, 0.6260543465614319, -0.06960814446210861]\n",
      "4   1   [0.4248122274875641, 0.6133004426956177, -0.06601344048976898]\n",
      "5   1   [0.43580490350723267, 0.5430480241775513, -0.01629064604640007]\n",
      "6   2   [0.1629895567893982, 0.030793584883213043, 0.7716968059539795]\n",
      "7   2   [0.1360279619693756, 0.019506899639964104, 0.7858303785324097]\n",
      "8   0   [0.43181321024894714, 0.4299090504646301, 0.12836599349975586]\n",
      "9   0   [0.41745954751968384, 0.34897664189338684, 0.25449463725090027]\n",
      "0   2   [0.284180223941803, 0.09432721883058548, 0.6616509556770325]\n",
      "1   2   [0.23798659443855286, 0.061208855360746384, 0.7150788307189941]\n",
      "2   2   [0.3641130328178406, 0.19979161024093628, 0.4962153136730194]\n",
      "3   2   [0.24186156690120697, 0.06346437335014343, 0.7112913131713867]\n",
      "4   0   [0.399524450302124, 0.28482985496520996, 0.35877320170402527]\n",
      "5   2   [0.22292201220989227, 0.053160231560468674, 0.7288388013839722]\n",
      "6   2   [0.37220317125320435, 0.2159845232963562, 0.47021937370300293]\n",
      "7   2   [0.26953521370887756, 0.0822724997997284, 0.6807517409324646]\n",
      "8   1   [0.4362376630306244, 0.5356908440589905, -0.008793187327682972]\n",
      "9   2   [0.31808197498321533, 0.12941795587539673, 0.6068809032440186]\n",
      "il y a 20% de chanson identifié en électro\n",
      "il y a 60% de chanson identifié en métal\n",
      "il y a 80% de chanson identifié en rap\n",
      "L'accuracy de notre ia est de 53.33%\n",
      "predicted_outputs [[0.4315303564071655, 0.4276469349861145, 0.1317358911037445], [0.4367524981498718, 0.5217657089233398, 0.006316592916846275], [0.43107694387435913, 0.5840258598327637, -0.05075989291071892], [0.12721529603004456, 0.023202605545520782, 0.7907998561859131], [0.39748361706733704, 0.2787376344203949, 0.3686962425708771], [0.1181141585111618, 0.021811973303556442, 0.7950934171676636], [0.38726383447647095, 0.2508661150932312, 0.4140256345272064], [0.4351346492767334, 0.5518330931663513, -0.02477031759917736], [0.4329368770122528, 0.5717795491218567, -0.041890472173690796], [0.4297352731227875, 0.5915180444717407, -0.05552801489830017], [0.421970397233963, 0.6233998537063599, -0.06902828812599182], [0.42765989899635315, 0.6015493869781494, -0.06098765507340431], [0.4292947053909302, 0.5937609672546387, -0.056822389364242554], [0.42115920782089233, 0.6260543465614319, -0.06960814446210861], [0.4248122274875641, 0.6133004426956177, -0.06601344048976898], [0.43580490350723267, 0.5430480241775513, -0.01629064604640007], [0.1629895567893982, 0.030793584883213043, 0.7716968059539795], [0.1360279619693756, 0.019506899639964104, 0.7858303785324097], [0.43181321024894714, 0.4299090504646301, 0.12836599349975586], [0.41745954751968384, 0.34897664189338684, 0.25449463725090027], [0.284180223941803, 0.09432721883058548, 0.6616509556770325], [0.23798659443855286, 0.061208855360746384, 0.7150788307189941], [0.3641130328178406, 0.19979161024093628, 0.4962153136730194], [0.24186156690120697, 0.06346437335014343, 0.7112913131713867], [0.399524450302124, 0.28482985496520996, 0.35877320170402527], [0.22292201220989227, 0.053160231560468674, 0.7288388013839722], [0.37220317125320435, 0.2159845232963562, 0.47021937370300293], [0.26953521370887756, 0.0822724997997284, 0.6807517409324646], [0.4362376630306244, 0.5356908440589905, -0.008793187327682972], [0.31808197498321533, 0.12941795587539673, 0.6068809032440186]]\n"
     ]
    }
   ],
   "source": [
    "run_mlp()"
   ]
  },
  {
   "cell_type": "code",
   "execution_count": 10,
   "id": "127f93c6",
   "metadata": {},
   "outputs": [],
   "source": [
    "def load_mlp():\n",
    "    (X_train, y_train), (X_test, y_test) = import_dataset()\n",
    "    \n",
    "    resultat2 = mlp.load_mlp_model(\"../../Save/mlp_192_4_4_3_classification_2021717234046.json\")\n",
    "    model2 = resultat2[0]\n",
    "        \n",
    "    predicted_outputs = [mlp.predict_mlp_model_classification(model2, p) for p in X_test]\n",
    "\n",
    "    display_value(predicted_outputs)\n",
    "    percentage_music_style(predicted_outputs)\n",
    "    \n",
    "    mlp.free_MLP(resultat2)"
   ]
  },
  {
   "cell_type": "code",
   "execution_count": 11,
   "id": "244eaddf",
   "metadata": {},
   "outputs": [
    {
     "name": "stdout",
     "output_type": "stream",
     "text": [
      "Sur le dataset de Train\n",
      "0   0   [0.7873943448066711, -0.06914258748292923, 0.15763656795024872]\n",
      "1   0   [0.9144191145896912, -0.09502891451120377, -0.4631306529045105]\n",
      "2   1   [0.45191049575805664, 0.6695412993431091, 0.009194983169436455]\n",
      "3   2   [0.10312346369028091, -0.03641502559185028, 0.8543674945831299]\n",
      "4   0   [0.7527577877044678, -0.09359872341156006, 0.27348265051841736]\n",
      "5   2   [-0.013380980119109154, -0.07256414741277695, 0.9035106897354126]\n",
      "6   2   [-0.07423452287912369, 0.02244691364467144, 0.9142631888389587]\n",
      "7   0   [0.8213911652565002, -0.0452880784869194, 0.010290654376149178]\n",
      "8   0   [0.860662579536438, -0.09587367624044418, -0.11248285323381424]\n",
      "9   0   [0.8371292948722839, -0.04813019186258316, -0.0488709919154644]\n",
      "0   1   [0.23629648983478546, 0.8104368448257446, 0.00112569285556674]\n",
      "1   1   [0.3492873013019562, 0.7483999729156494, 0.0030205792281776667]\n",
      "2   1   [-0.05272965133190155, 0.9048637747764587, -0.011044247075915337]\n",
      "3   1   [-0.10041249543428421, 0.9153586030006409, -0.011090464890003204]\n",
      "4   1   [0.2378063052892685, 0.8094062805175781, 0.0010783965699374676]\n",
      "5   1   [0.3366997539997101, 0.7560104131698608, 0.0028678602539002895]\n",
      "6   2   [-0.0570032075047493, -0.036393653601408005, 0.9120811223983765]\n",
      "7   2   [0.06962181627750397, 0.24262912571430206, 0.7953582406044006]\n",
      "8   1   [0.0981963500380516, 0.8574275374412537, 0.006216591224074364]\n",
      "9   0   [0.7371929287910461, 0.05176003277301788, 0.18996736407279968]\n",
      "0   2   [-0.060267042368650436, 0.002298112725839019, 0.9126656651496887]\n",
      "1   2   [0.1951935887336731, -0.0021017759572714567, 0.8380943536758423]\n",
      "2   2   [0.5684593915939331, -0.04809189587831497, 0.5824813842773438]\n",
      "3   2   [0.40118059515953064, 0.13585713505744934, 0.5686132907867432]\n",
      "4   2   [0.1404927670955658, 0.02081010304391384, 0.8464267253875732]\n",
      "5   2   [-0.09059028327465057, -0.001355110784061253, 0.9194211959838867]\n",
      "6   0   [0.6867790222167969, 0.003279376309365034, 0.35834574699401855]\n",
      "7   0   [0.4728628396987915, 0.20093543827533722, 0.36760684847831726]\n",
      "8   2   [0.46972447633743286, 0.02244262583553791, 0.6238874793052673]\n",
      "9   2   [0.25785166025161743, 0.08860950171947479, 0.7222339510917664]\n",
      "il y a 60% de chanson identifié en électro\n",
      "il y a 70% de chanson identifié en métal\n",
      "il y a 80% de chanson identifié en rap\n",
      "L'accuracy de notre ia est de 70.0%\n"
     ]
    }
   ],
   "source": [
    "load_mlp()"
   ]
  },
  {
   "cell_type": "code",
   "execution_count": null,
   "id": "79063614",
   "metadata": {},
   "outputs": [],
   "source": []
  }
 ],
 "metadata": {
  "kernelspec": {
   "display_name": "Python 3",
   "language": "python",
   "name": "python3"
  },
  "language_info": {
   "codemirror_mode": {
    "name": "ipython",
    "version": 3
   },
   "file_extension": ".py",
   "mimetype": "text/x-python",
   "name": "python",
   "nbconvert_exporter": "python",
   "pygments_lexer": "ipython3",
   "version": "3.8.8"
  }
 },
 "nbformat": 4,
 "nbformat_minor": 5
}
