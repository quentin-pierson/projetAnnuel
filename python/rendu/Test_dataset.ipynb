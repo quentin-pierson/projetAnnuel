{
 "cells": [
  {
   "cell_type": "markdown",
   "metadata": {},
   "source": [
    "# <center> <span style=\"color:red\">Music recognition </span> </center>"
   ]
  },
  {
   "cell_type": "markdown",
   "metadata": {},
   "source": [
    "The purpose of this notebook is to take in music spectrograms and to recognize musical genres"
   ]
  },
  {
   "cell_type": "markdown",
   "metadata": {},
   "source": [
    "## Import "
   ]
  },
  {
   "cell_type": "code",
   "execution_count": 1,
   "metadata": {},
   "outputs": [],
   "source": [
    "import os\n",
    "import numpy as np\n",
    "from PIL import Image\n",
    "import matplotlib.pyplot as plt\n",
    "from sklearn.metrics import accuracy_score"
   ]
  },
  {
   "cell_type": "markdown",
   "metadata": {},
   "source": [
    "## Import Model Linear and MLP "
   ]
  },
  {
   "cell_type": "code",
   "execution_count": 2,
   "metadata": {},
   "outputs": [],
   "source": [
    "import sys  \n",
    "sys.path.insert(0, '../../python')\n",
    "\n",
    "from linearModel import linearModel\n",
    "from mlp import MLPModel"
   ]
  },
  {
   "cell_type": "markdown",
   "metadata": {},
   "source": [
    "## Create Model "
   ]
  },
  {
   "cell_type": "code",
   "execution_count": 3,
   "metadata": {},
   "outputs": [],
   "source": [
    "lm = linearModel()\n",
    "mlp = MLPModel()"
   ]
  },
  {
   "cell_type": "markdown",
   "metadata": {},
   "source": [
    "## Algorithme "
   ]
  },
  {
   "cell_type": "code",
   "execution_count": 4,
   "metadata": {},
   "outputs": [],
   "source": [
    "def import_images_and_assign_labels(folder, label, X, Y):\n",
    "    for file in os.listdir(folder):\n",
    "        image_path = os.path.join(folder, file)\n",
    "        im = Image.open(image_path)\n",
    "        im = im.resize((8, 8))\n",
    "        im = im.convert(\"RGB\")\n",
    "        im_arr = np.array(im)\n",
    "        im_arr = np.reshape(im_arr, (8 * 8 * 3))\n",
    "        X.append(im_arr)\n",
    "        Y.append(label)"
   ]
  },
  {
   "cell_type": "code",
   "execution_count": 5,
   "metadata": {},
   "outputs": [],
   "source": [
    "def import_dataset():\n",
    "    # C:\\Users\\Antoine\\Desktop\\Projet_annuel\\projetAnnuel\\data\\\n",
    "    # C:/Users/Antoine/Desktop/Projet_annuel/projetAnnuel/data/\n",
    "    # C:\\Users\\Antoine\\Desktop\\Projet_annuel\\projetAnnuel\\data\\train\\Electro\n",
    "    TRAIN_ELECTRO_FOLDER = r\"C:\\Users\\Antoine\\Desktop\\Projet_annuel\\projetAnnuel\\data\\train\\Electro\"\n",
    "    TRAIN_METAL_FOLDER = r\"C:\\Users\\Antoine\\Desktop\\Projet_annuel\\projetAnnuel\\data\\train\\Metal\"\n",
    "    TEST_ELECTRO_FOLDER = r\"C:\\Users\\Antoine\\Desktop\\Projet_annuel\\projetAnnuel\\data\\test\\Electro\"\n",
    "    TEST_METAL_FOLDER = r\"C:\\Users\\Antoine\\Desktop\\Projet_annuel\\projetAnnuel\\data\\test\\Metal\"\n",
    "    \n",
    "    \n",
    "    X_train = []\n",
    "    y_train = []\n",
    "    import_images_and_assign_labels(\n",
    "       TRAIN_ELECTRO_FOLDER, 1.0, X_train, y_train\n",
    "    )\n",
    "    import_images_and_assign_labels(\n",
    "        TRAIN_METAL_FOLDER, -1.0, X_train, y_train\n",
    "    )\n",
    "    X_test = []\n",
    "    y_test = []\n",
    "    import_images_and_assign_labels(\n",
    "        TEST_ELECTRO_FOLDER, 1.0, X_test, y_test\n",
    "    )\n",
    "    import_images_and_assign_labels(\n",
    "        TEST_METAL_FOLDER, -1.0, X_test, y_test\n",
    "    )\n",
    "\n",
    "    return (np.array(X_train) / 255.0, np.array(y_train)), \\\n",
    "           (np.array(X_test) / 255.0, np.array(y_test))"
   ]
  },
  {
   "cell_type": "code",
   "execution_count": 6,
   "metadata": {},
   "outputs": [],
   "source": [
    "def display_value(number,array):\n",
    "    print(\"Sur le dataset de Train\")\n",
    "    cpt = 0\n",
    "    for i in array:\n",
    "        print(cpt,\" \",i)\n",
    "        cpt+=1\n",
    "        if(cpt==number):\n",
    "            cpt=0"
   ]
  },
  {
   "cell_type": "code",
   "execution_count": 19,
   "metadata": {},
   "outputs": [],
   "source": [
    "def run_mlp():\n",
    "    (X_train, y_train), (X_test, y_test) = import_dataset()\n",
    "    \n",
    "    resultat1 = mlp.create_mlp_model([192,10,10,1])\n",
    "    model1 = resultat1[0]\n",
    "       \n",
    "    print(\"y_train\",y_train[0])\n",
    "    \n",
    "    flattened_dataset_inputs = []\n",
    "    for p in X_train:\n",
    "        for i in p:\n",
    "            flattened_dataset_inputs.append(i)\n",
    "    print(\"flattened_dataset_inputs\",flattened_dataset_inputs[0])\n",
    "    print(\"flattened_dataset_inputs\",flattened_dataset_inputs[1])\n",
    "\n",
    "\n",
    "\n",
    "               \n",
    "    \n",
    "#     flattened_dataset_outputs = []\n",
    "#     for i in y_train:\n",
    "#         flattened_dataset_outputs.append(i[0])\n",
    "#         flattened_dataset_outputs.append(i[1])\n",
    "        \n",
    "    \n",
    "#     print(\"flattened_dataset_inputs\",flattened_dataset_inputs)\n",
    "    \n",
    "    print(\"X_train\",X_train[0])\n",
    "    print(\"type X_train\",type(X_train))\n",
    "    print(\"Dimension X_train\",X_train.shape)\n",
    "    print(\"\\n\")\n",
    "    \n",
    "    \n",
    "    mlp.train_classification_stochastic_gradient_backpropagation(model1,\n",
    "                                                                flattened_dataset_inputs,\n",
    "                                                                y_train,\n",
    "                                                                alpha=0.01,\n",
    "                                                                iterations_count=1000000)\n",
    "\n",
    "    # predicted_outputs = [mlp.predict_mlp_model_classification(model1, p) for p in X_train]\n",
    "    \n",
    "    # item1 = 100\n",
    "    # item2 = 100\n",
    "    # for i in range(0,len(predicted_outputs)):\n",
    "    #     if i > 99:\n",
    "    #         if predicted_outputs[i] > 0:\n",
    "    #             item1 -= 1\n",
    "    #     else:\n",
    "    #         if predicted_outputs[i] < 0:\n",
    "    #             item2 -= 1\n",
    "    \n",
    "    \n",
    "    ### X_test\n",
    "    \n",
    "    predicted_outputs = [mlp.predict_mlp_model_classification(model1, p) for p in X_test]\n",
    "    \n",
    "    item1 = 100\n",
    "    item2 = 100\n",
    "    for i in range(0,len(predicted_outputs)):\n",
    "        if i > 9:\n",
    "            if predicted_outputs[i] > 0:\n",
    "                item1 -= 10\n",
    "        else:\n",
    "            if predicted_outputs[i] < 0:\n",
    "                item2 -= 10\n",
    "    \n",
    "    display_value(100,predicted_outputs)\n",
    "    \n",
    "    mlp.free_MLP(resultat1)\n",
    "    \n",
    "    print(f\"il y a {item2}% de chanson identifié en électro\")\n",
    "    print(f\"il y a {item1}% de chanson identifié en métal\")"
   ]
  },
  {
   "cell_type": "code",
   "execution_count": 20,
   "metadata": {
    "scrolled": true
   },
   "outputs": [
    {
     "name": "stdout",
     "output_type": "stream",
     "text": [
      "y_train 1.0\n",
      "flattened_dataset_inputs 0.3333333333333333\n",
      "flattened_dataset_inputs 0.3333333333333333\n",
      "X_train [0.33333333 0.33333333 0.66666667 0.21960784 0.25882353 0.66666667\n",
      " 0.2        0.26666667 0.66666667 0.2        0.26666667 0.66666667\n",
      " 0.2        0.26666667 0.66666667 0.21960784 0.25882353 0.66666667\n",
      " 0.4        0.         0.2        0.         0.         0.\n",
      " 0.19215686 0.22745098 0.57647059 0.22352941 0.29411765 0.7372549\n",
      " 0.23137255 0.29803922 0.75686275 0.22745098 0.29411765 0.74509804\n",
      " 0.23137255 0.29803922 0.75686275 0.23137255 0.29019608 0.7254902\n",
      " 0.52156863 0.25882353 0.38039216 0.         0.         0.\n",
      " 0.16862745 0.20392157 0.54901961 0.21176471 0.28235294 0.74117647\n",
      " 0.22352941 0.29411765 0.77254902 0.21960784 0.29019608 0.76078431\n",
      " 0.22352941 0.29411765 0.77254902 0.22745098 0.29019608 0.74509804\n",
      " 0.58431373 0.41176471 0.49803922 0.         0.         0.\n",
      " 0.21176471 0.31764706 0.63921569 0.42745098 0.51764706 0.85882353\n",
      " 0.57647059 0.64313725 0.89411765 0.58039216 0.64705882 0.88627451\n",
      " 0.57647059 0.64705882 0.90196078 0.56078431 0.63529412 0.88235294\n",
      " 0.68627451 0.66666667 0.70980392 0.         0.         0.\n",
      " 0.53333333 0.60392157 0.71372549 0.8        0.80784314 0.8745098\n",
      " 0.9254902  0.81960784 0.78431373 0.93333333 0.78431373 0.72156863\n",
      " 0.93333333 0.80392157 0.75686275 0.89019608 0.78823529 0.75686275\n",
      " 0.73333333 0.70980392 0.75294118 0.         0.         0.\n",
      " 0.76862745 0.69019608 0.65098039 0.92156863 0.78039216 0.71372549\n",
      " 0.96470588 0.64705882 0.54117647 0.95294118 0.61568627 0.50588235\n",
      " 0.96470588 0.63529412 0.53333333 0.9254902  0.6        0.50196078\n",
      " 0.61960784 0.57647059 0.70980392 0.         0.         0.\n",
      " 0.69411765 0.69411765 0.7372549  0.82745098 0.79215686 0.81176471\n",
      " 0.89411765 0.56078431 0.49803922 0.89019608 0.51372549 0.43529412\n",
      " 0.90588235 0.5372549  0.45882353 0.87058824 0.50588235 0.43137255\n",
      " 0.4745098  0.40392157 0.61568627 0.         0.         0.\n",
      " 0.33333333 0.66666667 0.66666667 0.69411765 0.7372549  0.78039216\n",
      " 0.76862745 0.49803922 0.45882353 0.71372549 0.39215686 0.35686275\n",
      " 0.76862745 0.45882353 0.38431373 0.74901961 0.41568627 0.37254902\n",
      " 0.33333333 0.16470588 0.33333333 0.         0.         0.        ]\n",
      "type X_train <class 'numpy.ndarray'>\n",
      "Dimension X_train (200, 192)\n",
      "\n",
      "\n",
      "Sur le dataset de Train\n",
      "0   0.9460327625274658\n",
      "1   0.9998393058776855\n",
      "2   -0.9923014640808105\n",
      "3   -0.9592808485031128\n",
      "4   0.6108217835426331\n",
      "5   0.9977843165397644\n",
      "6   0.9226953387260437\n",
      "7   0.9777624607086182\n",
      "8   -0.8853744864463806\n",
      "9   0.9776034355163574\n",
      "10   -0.9975714087486267\n",
      "11   -0.9972491264343262\n",
      "12   -0.9899675250053406\n",
      "13   -0.9957705140113831\n",
      "14   -0.49475419521331787\n",
      "15   0.010696480050683022\n",
      "16   -0.9964966177940369\n",
      "17   -0.6906662583351135\n",
      "18   -0.9967618584632874\n",
      "19   -0.9903087615966797\n",
      "il y a 70% de chanson identifié en électro\n",
      "il y a 90% de chanson identifié en métal\n"
     ]
    }
   ],
   "source": [
    "run_mlp()"
   ]
  },
  {
   "cell_type": "code",
   "execution_count": null,
   "metadata": {},
   "outputs": [],
   "source": []
  },
  {
   "cell_type": "code",
   "execution_count": null,
   "metadata": {},
   "outputs": [],
   "source": []
  }
 ],
 "metadata": {
  "kernelspec": {
   "display_name": "Python 3",
   "language": "python",
   "name": "python3"
  },
  "language_info": {
   "codemirror_mode": {
    "name": "ipython",
    "version": 3
   },
   "file_extension": ".py",
   "mimetype": "text/x-python",
   "name": "python",
   "nbconvert_exporter": "python",
   "pygments_lexer": "ipython3",
   "version": "3.8.3"
  }
 },
 "nbformat": 4,
 "nbformat_minor": 5
}
