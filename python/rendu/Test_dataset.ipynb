{
 "cells": [
  {
   "cell_type": "markdown",
   "metadata": {},
   "source": [
    "# <center> <span style=\"color:red\">Music recognition </span> </center>"
   ]
  },
  {
   "cell_type": "markdown",
   "metadata": {},
   "source": [
    "The purpose of this notebook is to take in music spectrograms and to recognize musical genres"
   ]
  },
  {
   "cell_type": "markdown",
   "metadata": {},
   "source": [
    "## Import "
   ]
  },
  {
   "cell_type": "code",
   "execution_count": 21,
   "metadata": {},
   "outputs": [],
   "source": [
    "import os\n",
    "import numpy as np\n",
    "from PIL import Image\n",
    "import matplotlib.pyplot as plt\n",
    "from sklearn.metrics import accuracy_score, mean_squared_error, accuracy_score\n",
    "from IPython.display import clear_output"
   ]
  },
  {
   "cell_type": "markdown",
   "metadata": {},
   "source": [
    "## Import Model Linear and MLP "
   ]
  },
  {
   "cell_type": "code",
   "execution_count": 2,
   "metadata": {},
   "outputs": [],
   "source": [
    "import sys  \n",
    "sys.path.insert(0, '../../python')\n",
    "\n",
    "from linearModel import linearModel\n",
    "from mlp import MLPModel\n",
    "from wrapper import MyMLPRawWrapper"
   ]
  },
  {
   "cell_type": "markdown",
   "metadata": {},
   "source": [
    "## Create Model "
   ]
  },
  {
   "cell_type": "code",
   "execution_count": 3,
   "metadata": {},
   "outputs": [],
   "source": [
    "lm = linearModel()\n",
    "mlp = MLPModel()"
   ]
  },
  {
   "cell_type": "markdown",
   "metadata": {},
   "source": [
    "## Algorithme "
   ]
  },
  {
   "cell_type": "code",
   "execution_count": 4,
   "metadata": {},
   "outputs": [],
   "source": [
    "def import_images_and_assign_labels(folder, label, X, Y):\n",
    "    for file in os.listdir(folder):\n",
    "        image_path = os.path.join(folder, file)\n",
    "        im = Image.open(image_path)\n",
    "        im = im.resize((8, 8))\n",
    "        im = im.convert(\"RGB\")\n",
    "        im_arr = np.array(im)\n",
    "        im_arr = np.reshape(im_arr, (8 * 8 * 3))\n",
    "        X.append(im_arr)\n",
    "        Y.append(label)"
   ]
  },
  {
   "cell_type": "code",
   "execution_count": 5,
   "metadata": {},
   "outputs": [],
   "source": [
    "def import_dataset():\n",
    "    dataset_folder = \"C:/Users/Antoine/Desktop/Projet_annuel/projetAnnuel/data/\"\n",
    "    train_folder = os.path.join(dataset_folder, \"train\")\n",
    "    test_folder = os.path.join(dataset_folder, \"test\")\n",
    "\n",
    "    X_train = []\n",
    "    y_train = []\n",
    "    \n",
    "    import_images_and_assign_labels(\n",
    "        os.path.join(train_folder, \"Electro\"), [1,0,0], X_train, y_train\n",
    "    )\n",
    "    import_images_and_assign_labels(\n",
    "        os.path.join(train_folder, \"Metal\"), [0,1,0], X_train, y_train\n",
    "    )\n",
    "    \n",
    "    import_images_and_assign_labels(\n",
    "        os.path.join(train_folder, \"Rap\"), [0,0,1], X_train, y_train\n",
    "    )\n",
    "    \n",
    "    X_test = []\n",
    "    y_test = []\n",
    "    import_images_and_assign_labels(\n",
    "        os.path.join(test_folder, \"Electro\"), [1,0,0], X_test, y_test\n",
    "    )\n",
    "    import_images_and_assign_labels(\n",
    "        os.path.join(test_folder, \"Metal\"), [0,1,0], X_test, y_test\n",
    "    )\n",
    "    \n",
    "    import_images_and_assign_labels(\n",
    "        os.path.join(test_folder, \"Rap\"), [0,0,1], X_test, y_test\n",
    "    )\n",
    "    \n",
    "    return (np.array(X_train) / 255.0, np.array(y_train)), \\\n",
    "           (np.array(X_test) / 255.0, np.array(y_test))"
   ]
  },
  {
   "cell_type": "code",
   "execution_count": 6,
   "metadata": {},
   "outputs": [],
   "source": [
    "def display_value(array):\n",
    "    print(\"Sur le dataset de Train\")\n",
    "    cpt = 0\n",
    "    number = len(array)/3\n",
    "    for i in array:\n",
    "        print(cpt,\" \",np.argmax(i ),\" \",i)\n",
    "        cpt+=1\n",
    "        if(cpt==number):\n",
    "            cpt=0"
   ]
  },
  {
   "cell_type": "code",
   "execution_count": 7,
   "metadata": {},
   "outputs": [],
   "source": [
    "def percentage_music_style(array):\n",
    "    item1 = 0\n",
    "    item2 = 0\n",
    "    item3 = 0\n",
    "    itemGlobal = 0 \n",
    "    cpt = 0\n",
    "    for i in array:\n",
    "        if cpt<10:\n",
    "            if np.argmax(i) == 0:\n",
    "                item2 += 10\n",
    "        elif cpt<20:\n",
    "            if np.argmax(i) == 1: \n",
    "                item1 += 10\n",
    "        else:\n",
    "            if np.argmax(i) == 2:\n",
    "                item3 +=10\n",
    "        cpt+=1\n",
    "    itemGlobal = round((item1+item2+item3)/3,2)\n",
    "        \n",
    "    print(f\"il y a {item2}% de chanson identifié en électro\")\n",
    "    print(f\"il y a {item1}% de chanson identifié en métal\")\n",
    "    print(f\"il y a {item3}% de chanson identifié en rap\")\n",
    "    print(f\"L'accuracy de notre ia est de {itemGlobal}%\")"
   ]
  },
  {
   "cell_type": "code",
   "execution_count": 8,
   "metadata": {},
   "outputs": [],
   "source": [
    "def my_mean_squared_error(y_true, y_pred):\n",
    "    return np.sum((y_true - y_pred) ** 2) / len(y_true)"
   ]
  },
  {
   "cell_type": "code",
   "execution_count": 25,
   "metadata": {},
   "outputs": [],
   "source": [
    "def run_mlp_wrapper():\n",
    "    (X_train, y_train), (X_test, y_test) = import_dataset()\n",
    "    wrapped_model = MyMLPRawWrapper([192,4,4,3], True, 0.001, 200)\n",
    "\n",
    "    losses = []\n",
    "    val_losses = []\n",
    "    accs = []\n",
    "    val_accs = []\n",
    "        \n",
    "    for epoch in range(100):\n",
    "        wrapped_model.fit(X_train, y_train)\n",
    "        y_pred = wrapped_model.predict(X_train)\n",
    "        loss = mean_squared_error(y_train, y_pred)\n",
    "        losses.append(loss)\n",
    "        val_y_pred = wrapped_model.predict(X_test)\n",
    "        val_loss = mean_squared_error(y_test, val_y_pred)\n",
    "        val_losses.append(val_loss)\n",
    "\n",
    "        acc = accuracy_score(np.argmax(y_train, axis=1), np.argmax(y_pred, axis=1))\n",
    "        accs.append(acc)\n",
    "\n",
    "        val_acc = accuracy_score(np.argmax(y_test, axis=1), np.argmax(val_y_pred, axis=1))\n",
    "        val_accs.append(val_acc)\n",
    "\n",
    "        clear_output(True)\n",
    "\n",
    "    plt.plot(losses)\n",
    "    plt.plot(val_losses)\n",
    "    plt.legend(['loss', 'val_loss'], loc='upper left')\n",
    "    plt.title('Evolution of loss (MSE)')\n",
    "    plt.xlabel('epochs')\n",
    "    plt.ylabel(f'mean squared error')\n",
    "    plt.show()  \n",
    "\n",
    "    plt.plot(accs)\n",
    "    plt.plot(val_accs)\n",
    "    plt.legend(['acc', 'val_acc'], loc='upper left')\n",
    "    plt.title('Evolution of accuracy')\n",
    "    plt.xlabel('epochs')\n",
    "    plt.ylabel(f'accuracy')\n",
    "    plt.show()\n"
   ]
  },
  {
   "cell_type": "code",
   "execution_count": 26,
   "metadata": {},
   "outputs": [],
   "source": [
    "def run_mlp():\n",
    "    (X_train, y_train), (X_test, y_test) = import_dataset()\n",
    "    \n",
    "    resultat1 = mlp.create_mlp_model([192,4,4,3])\n",
    "    model1 = resultat1[0]\n",
    "        \n",
    "    flattened_dataset_inputs = []\n",
    "    for p in X_train:\n",
    "        for i in p:\n",
    "            flattened_dataset_inputs.append(i)\n",
    "            \n",
    "    flattened_dataset_outputs = []\n",
    "    for p in y_train:\n",
    "        for i in p:\n",
    "            flattened_dataset_outputs.append(i)\n",
    "   \n",
    "    mlp.train_classification_stochastic_gradient_backpropagation(model1,\n",
    "                                                                flattened_dataset_inputs,\n",
    "                                                                flattened_dataset_outputs,\n",
    "                                                                alpha=1e-3,\n",
    "                                                                iterations_count=200000)\n",
    "\n",
    "    predicted_outputs = [mlp.predict_mlp_model_classification(model1, p) for p in X_test]\n",
    "    \n",
    "\n",
    "        \n",
    "    #print(predicted_outputs)\n",
    "    display_value(predicted_outputs)\n",
    "    percentage_music_style(predicted_outputs)\n",
    "    print(\"predicted_outputs\",predicted_outputs)\n",
    "    mlp.save_mlp_classification(model1)\n",
    "    \n",
    "    mlp.free_MLP(resultat1)"
   ]
  },
  {
   "cell_type": "code",
   "execution_count": 27,
   "metadata": {
    "scrolled": false
   },
   "outputs": [
    {
     "data": {
      "image/png": "[encoded data removed]",
      "text/plain": [
       "<Figure size 432x288 with 1 Axes>"
      ]
     },
     "metadata": {
      "needs_background": "light"
     },
     "output_type": "display_data"
    },
    {
     "data": {
      "image/png": "[encoded data removed]",
      "text/plain": [
       "<Figure size 432x288 with 1 Axes>"
      ]
     },
     "metadata": {
      "needs_background": "light"
     },
     "output_type": "display_data"
    }
   ],
   "source": [
    "run_mlp_wrapper()"
   ]
  },
  {
   "cell_type": "code",
   "execution_count": 12,
   "metadata": {},
   "outputs": [],
   "source": [
    "def load_mlp():\n",
    "    (X_train, y_train), (X_test, y_test) = import_dataset()\n",
    "    \n",
    "    resultat2 = mlp.load_mlp_model(\"../../Save/mlp_classification_192_4_4_3_2021719111216.json\")\n",
    "    model2 = resultat2[0]\n",
    "        \n",
    "    predicted_outputs = [mlp.predict_mlp_model_classification(model2, p) for p in X_test]\n",
    "\n",
    "    display_value(predicted_outputs)\n",
    "    percentage_music_style(predicted_outputs)\n",
    "    \n",
    "    mlp.free_MLP(resultat2)"
   ]
  },
  {
   "cell_type": "code",
   "execution_count": 13,
   "metadata": {},
   "outputs": [
    {
     "name": "stdout",
     "output_type": "stream",
     "text": [
      "Sur le dataset de Train\n",
      "0   1   [0.4553317427635193, 0.5404325723648071, -0.06545158475637436]\n",
      "1   2   [0.33505499362945557, 0.3583240807056427, 0.3676570653915405]\n",
      "2   1   [0.44869107007980347, 0.5059441924095154, 0.020289050415158272]\n",
      "3   0   [0.4173782467842102, 0.3595852255821228, 0.3126048445701599]\n",
      "4   1   [0.39959490299224854, 0.43666166067123413, 0.19968298077583313]\n",
      "5   1   [0.4050179719924927, 0.4952937960624695, 0.08352881669998169]\n",
      "6   1   [0.4769784212112427, 0.5615781545639038, -0.1659606397151947]\n",
      "7   2   [0.3311246931552887, 0.3589712381362915, 0.3684735596179962]\n",
      "8   1   [0.4305693507194519, 0.5146377682685852, 0.021879645064473152]\n",
      "9   1   [0.35345977544784546, 0.37113332748413086, 0.3394050598144531]\n",
      "10   0   [0.542579174041748, 0.44930750131607056, -0.05867452919483185]\n",
      "11   1   [0.47944751381874084, 0.5612779855728149, -0.15998363494873047]\n",
      "12   1   [0.4784082770347595, 0.5290986895561218, -0.07487290352582932]\n",
      "13   2   [0.2752878665924072, 0.05923089012503624, 0.7162877321243286]\n",
      "14   2   [0.3752765953540802, 0.3301387429237366, 0.38614553213119507]\n",
      "15   2   [0.13090090453624725, -0.034666113555431366, 0.8186308145523071]\n",
      "16   0   [0.40434202551841736, 0.33289700746536255, 0.36478158831596375]\n",
      "17   1   [0.4433009624481201, 0.5303258299827576, -0.02742862142622471]\n",
      "18   1   [0.4977761209011078, 0.5322338342666626, -0.11905309557914734]\n",
      "19   1   [0.43347498774528503, 0.552014172077179, -0.06277254223823547]\n",
      "20   1   [0.4325758218765259, 0.5728681087493896, -0.11727040261030197]\n",
      "21   1   [0.4207844138145447, 0.5757580399513245, -0.10927509516477585]\n",
      "22   1   [0.43745186924934387, 0.5701254606246948, -0.11101987957954407]\n",
      "23   1   [0.4464472234249115, 0.5257200598716736, -0.021062633022665977]\n",
      "24   1   [0.4483722746372223, 0.5700135231018066, -0.1244414821267128]\n",
      "25   1   [0.4623701572418213, 0.5387462973594666, -0.07188872992992401]\n",
      "26   1   [0.45438873767852783, 0.5724806785583496, -0.14136449992656708]\n",
      "27   1   [0.4566148817539215, 0.5686467289924622, -0.13446080684661865]\n",
      "28   1   [0.4294907748699188, 0.4502873420715332, 0.14912265539169312]\n",
      "29   1   [0.43573570251464844, 0.49595513939857483, 0.05491352081298828]\n",
      "30   1   [0.4519396126270294, 0.5692529082298279, -0.13424058258533478]\n",
      "31   1   [0.4411727488040924, 0.560952365398407, -0.09415166079998016]\n",
      "32   1   [0.46138739585876465, 0.5713021159172058, -0.14995644986629486]\n",
      "33   1   [0.45669013261795044, 0.5787593126296997, -0.1615591049194336]\n",
      "34   1   [0.46350303292274475, 0.5761284232139587, -0.1662539690732956]\n",
      "35   1   [0.4432852864265442, 0.5517265796661377, -0.07529779523611069]\n",
      "36   2   [0.031751345843076706, -0.034295931458473206, 0.8336008191108704]\n",
      "37   0   [0.44766098260879517, 0.19092458486557007, 0.40468335151672363]\n",
      "38   0   [0.37688928842544556, 0.3700210750102997, 0.32548514008522034]\n",
      "39   1   [0.4156656861305237, 0.45679858326911926, 0.14668914675712585]\n",
      "40   2   [0.2505798935890198, 0.1290135234594345, 0.6696906089782715]\n",
      "41   2   [0.182846799492836, 0.06550924479961395, 0.7400810718536377]\n",
      "42   2   [0.29875123500823975, 0.1371740698814392, 0.6458964347839355]\n",
      "43   2   [0.1584656685590744, 0.06798753887414932, 0.7426192760467529]\n",
      "44   2   [0.39643165469169617, 0.29161226749420166, 0.4269985854625702]\n",
      "45   2   [0.1411847025156021, 0.019204996526241302, 0.782710075378418]\n",
      "46   1   [0.3567656874656677, 0.36476731300354004, 0.3474498987197876]\n",
      "47   2   [0.013701456598937511, -0.06856413930654526, 0.8579956889152527]\n",
      "48   1   [0.4192327857017517, 0.5224298238754272, 0.014022273011505604]\n",
      "49   2   [0.3457554876804352, 0.33409175276756287, 0.39274153113365173]\n",
      "il y a 10% de chanson identifié en électro\n",
      "il y a 50% de chanson identifié en métal\n",
      "il y a 90% de chanson identifié en rap\n",
      "L'accuracy de notre ia est de 50.0%\n"
     ]
    }
   ],
   "source": [
    "load_mlp()"
   ]
  },
  {
   "cell_type": "code",
   "execution_count": null,
   "metadata": {},
   "outputs": [],
   "source": []
  },
  {
   "cell_type": "code",
   "execution_count": null,
   "metadata": {},
   "outputs": [],
   "source": []
  }
 ],
 "metadata": {
  "kernelspec": {
   "display_name": "Python 3",
   "language": "python",
   "name": "python3"
  },
  "language_info": {
   "codemirror_mode": {
    "name": "ipython",
    "version": 3
   },
   "file_extension": ".py",
   "mimetype": "text/x-python",
   "name": "python",
   "nbconvert_exporter": "python",
   "pygments_lexer": "ipython3",
   "version": "3.8.3"
  }
 },
 "nbformat": 4,
 "nbformat_minor": 5
}
