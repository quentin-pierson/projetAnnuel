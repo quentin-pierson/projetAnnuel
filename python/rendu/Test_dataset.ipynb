{
 "cells": [
  {
   "cell_type": "markdown",
   "id": "50ccd207",
   "metadata": {},
   "source": [
    "# <center> <span style=\"color:red\">Music recognition </span> </center>"
   ]
  },
  {
   "cell_type": "markdown",
   "id": "1440cabe",
   "metadata": {},
   "source": [
    "The purpose of this notebook is to take in music spectrograms and to recognize musical genres"
   ]
  },
  {
   "cell_type": "markdown",
   "id": "524b6ec6",
   "metadata": {},
   "source": [
    "## Import "
   ]
  },
  {
   "cell_type": "code",
   "execution_count": 1,
   "id": "3faa6941",
   "metadata": {},
   "outputs": [],
   "source": [
    "import os\n",
    "import numpy as np\n",
    "from PIL import Image\n",
    "import matplotlib.pyplot as plt\n",
    "from sklearn.metrics import accuracy_score"
   ]
  },
  {
   "cell_type": "markdown",
   "id": "cb785e99",
   "metadata": {},
   "source": [
    "## Import Model Linear and MLP "
   ]
  },
  {
   "cell_type": "code",
   "execution_count": 2,
   "id": "fe7621ff",
   "metadata": {},
   "outputs": [],
   "source": [
    "import sys  \n",
    "sys.path.insert(0, '../../python')\n",
    "\n",
    "from linearModel import linearModel\n",
    "from mlp import MLPModel"
   ]
  },
  {
   "cell_type": "markdown",
   "id": "72ccd7c3",
   "metadata": {},
   "source": [
    "## Create Model "
   ]
  },
  {
   "cell_type": "code",
   "execution_count": 3,
   "id": "b047493d",
   "metadata": {},
   "outputs": [],
   "source": [
    "lm = linearModel()\n",
    "mlp = MLPModel()"
   ]
  },
  {
   "cell_type": "markdown",
   "id": "0bd54240",
   "metadata": {},
   "source": [
    "## Algorithme "
   ]
  },
  {
   "cell_type": "code",
   "execution_count": 4,
   "id": "11f50c86",
   "metadata": {},
   "outputs": [],
   "source": [
    "def import_images_and_assign_labels(folder, label, X, Y):\n",
    "    for file in os.listdir(folder):\n",
    "        image_path = os.path.join(folder, file)\n",
    "        im = Image.open(image_path)\n",
    "        im = im.resize((8, 8))\n",
    "        im = im.convert(\"RGB\")\n",
    "        im_arr = np.array(im)\n",
    "        im_arr = np.reshape(im_arr, (8 * 8 * 3))\n",
    "        X.append(im_arr)\n",
    "        Y.append(label)"
   ]
  },
  {
   "cell_type": "code",
   "execution_count": 5,
   "id": "8223667e",
   "metadata": {},
   "outputs": [],
   "source": [
    "def import_dataset():\n",
    "    dataset_folder = \"G:/Programmes/Python/projetAnnuel/data\"\n",
    "    train_folder = os.path.join(dataset_folder, \"train\")\n",
    "    test_folder = os.path.join(dataset_folder, \"test\")\n",
    "\n",
    "    X_train = []\n",
    "    y_train = []\n",
    "    import_images_and_assign_labels(\n",
    "        os.path.join(train_folder, \"Electro\"), 1.0, X_train, y_train\n",
    "    )\n",
    "    import_images_and_assign_labels(\n",
    "        os.path.join(train_folder, \"Metal\"), -1.0, X_train, y_train\n",
    "    )\n",
    "    X_test = []\n",
    "    y_test = []\n",
    "    import_images_and_assign_labels(\n",
    "        os.path.join(test_folder, \"Electro\"), 1.0, X_test, y_test\n",
    "    )\n",
    "    import_images_and_assign_labels(\n",
    "        os.path.join(test_folder, \"Metal\"), -1.0, X_test, y_test\n",
    "    )\n",
    "\n",
    "    return (np.array(X_train) / 255.0, np.array(y_train)), \\\n",
    "           (np.array(X_test) / 255.0, np.array(y_test))"
   ]
  },
  {
   "cell_type": "code",
   "execution_count": 6,
   "id": "1d5afd8e",
   "metadata": {},
   "outputs": [],
   "source": [
    "def display_value(number,array):\n",
    "    print(\"Sur le dataset de Train\")\n",
    "    cpt = 0\n",
    "    for i in array:\n",
    "        print(cpt,\" \",i)\n",
    "        cpt+=1\n",
    "        if(cpt==number):\n",
    "            cpt=0"
   ]
  },
  {
   "cell_type": "code",
   "execution_count": 22,
   "id": "c6a87c05",
   "metadata": {},
   "outputs": [],
   "source": [
    "def run_mlp():\n",
    "    (X_train, y_train), (X_test, y_test) = import_dataset()\n",
    "    \n",
    "    resultat1 = mlp.create_mlp_model([2,4,4,1])\n",
    "    model1 = resultat1[0]\n",
    "       \n",
    "    print(\"y_train\",y_train[0])\n",
    "    \n",
    "    flattened_dataset_inputs = []\n",
    "    for p in X_train:\n",
    "        val_test = 0\n",
    "        for i in p:\n",
    "            val_test+=i\n",
    "        flattened_dataset_inputs.append(val_test)\n",
    "    print(\"flattened_dataset_inputs\",flattened_dataset_inputs[0])\n",
    "    print(\"flattened_dataset_inputs\",flattened_dataset_inputs[1])\n",
    "\n",
    "\n",
    "\n",
    "               \n",
    "    \n",
    "#     flattened_dataset_outputs = []\n",
    "#     for i in y_train:\n",
    "#         flattened_dataset_outputs.append(i[0])\n",
    "#         flattened_dataset_outputs.append(i[1])\n",
    "        \n",
    "    \n",
    "#     print(\"flattened_dataset_inputs\",flattened_dataset_inputs)\n",
    "    \n",
    "    print(\"X_train\",X_train[0])\n",
    "    print(\"type X_train\",type(X_train))\n",
    "    print(\"Dimension X_train\",X_train.shape)\n",
    "    print(\"\\n\")\n",
    "    \n",
    "    \n",
    "    mlp.train_classification_stochastic_gradient_backpropagation(model1,\n",
    "                                                                flattened_dataset_inputs,\n",
    "                                                                y_train,\n",
    "                                                                alpha=0.01,\n",
    "                                                                iterations_count=100000)\n",
    "\n",
    "    predicted_outputs = [mlp.predict_mlp_model_classification(model1, p) for p in X_train]\n",
    "       \n",
    "    display_value(100,predicted_outputs)\n",
    "    \n",
    "    mlp.free_MLP(resultat1)"
   ]
  },
  {
   "cell_type": "code",
   "execution_count": 23,
   "id": "395a8941",
   "metadata": {
    "scrolled": true
   },
   "outputs": [
    {
     "name": "stdout",
     "output_type": "stream",
     "text": [
      "y_train 1.0\n",
      "flattened_dataset_inputs 94.19999999999993\n",
      "flattened_dataset_inputs 92.45490196078424\n",
      "X_train [0.33333333 0.33333333 0.66666667 0.21960784 0.25882353 0.66666667\n",
      " 0.2        0.26666667 0.66666667 0.2        0.26666667 0.66666667\n",
      " 0.2        0.26666667 0.66666667 0.21960784 0.25882353 0.66666667\n",
      " 0.4        0.         0.2        0.         0.         0.\n",
      " 0.19215686 0.22745098 0.57647059 0.22352941 0.29411765 0.7372549\n",
      " 0.23137255 0.29803922 0.75686275 0.22745098 0.29411765 0.74509804\n",
      " 0.23137255 0.29803922 0.75686275 0.23137255 0.29019608 0.7254902\n",
      " 0.52156863 0.25882353 0.38039216 0.         0.         0.\n",
      " 0.16862745 0.20392157 0.54901961 0.21176471 0.28235294 0.74117647\n",
      " 0.22352941 0.29411765 0.77254902 0.21960784 0.29019608 0.76078431\n",
      " 0.22352941 0.29411765 0.77254902 0.22745098 0.29019608 0.74509804\n",
      " 0.58431373 0.41176471 0.49803922 0.         0.         0.\n",
      " 0.21176471 0.31764706 0.63921569 0.42745098 0.51764706 0.85882353\n",
      " 0.57647059 0.64313725 0.89411765 0.58039216 0.64705882 0.88627451\n",
      " 0.57647059 0.64705882 0.90196078 0.56078431 0.63529412 0.88235294\n",
      " 0.68627451 0.66666667 0.70980392 0.         0.         0.\n",
      " 0.53333333 0.60392157 0.71372549 0.8        0.80784314 0.8745098\n",
      " 0.9254902  0.81960784 0.78431373 0.93333333 0.78431373 0.72156863\n",
      " 0.93333333 0.80392157 0.75686275 0.89019608 0.78823529 0.75686275\n",
      " 0.73333333 0.70980392 0.75294118 0.         0.         0.\n",
      " 0.76862745 0.69019608 0.65098039 0.92156863 0.78039216 0.71372549\n",
      " 0.96470588 0.64705882 0.54117647 0.95294118 0.61568627 0.50588235\n",
      " 0.96470588 0.63529412 0.53333333 0.9254902  0.6        0.50196078\n",
      " 0.61960784 0.57647059 0.70980392 0.         0.         0.\n",
      " 0.69411765 0.69411765 0.7372549  0.82745098 0.79215686 0.81176471\n",
      " 0.89411765 0.56078431 0.49803922 0.89019608 0.51372549 0.43529412\n",
      " 0.90588235 0.5372549  0.45882353 0.87058824 0.50588235 0.43137255\n",
      " 0.4745098  0.40392157 0.61568627 0.         0.         0.\n",
      " 0.33333333 0.66666667 0.66666667 0.69411765 0.7372549  0.78039216\n",
      " 0.76862745 0.49803922 0.45882353 0.71372549 0.39215686 0.35686275\n",
      " 0.76862745 0.45882353 0.38431373 0.74901961 0.41568627 0.37254902\n",
      " 0.33333333 0.16470588 0.33333333 0.         0.         0.        ]\n",
      "type X_train <class 'numpy.ndarray'>\n",
      "Dimension X_train (200, 192)\n",
      "\n",
      "\n"
     ]
    },
    {
     "ename": "TypeError",
     "evalue": "object of type 'numpy.float64' has no len()",
     "output_type": "error",
     "traceback": [
      "\u001b[1;31m---------------------------------------------------------------------------\u001b[0m",
      "\u001b[1;31mTypeError\u001b[0m                                 Traceback (most recent call last)",
      "\u001b[1;32m<ipython-input-23-6ca672766c81>\u001b[0m in \u001b[0;36m<module>\u001b[1;34m\u001b[0m\n\u001b[1;32m----> 1\u001b[1;33m \u001b[0mrun_mlp\u001b[0m\u001b[1;33m(\u001b[0m\u001b[1;33m)\u001b[0m\u001b[1;33m\u001b[0m\u001b[1;33m\u001b[0m\u001b[0m\n\u001b[0m",
      "\u001b[1;32m<ipython-input-22-16b0a6ad2a7e>\u001b[0m in \u001b[0;36mrun_mlp\u001b[1;34m()\u001b[0m\n\u001b[0;32m     40\u001b[0m                                                                 iterations_count=100000)\n\u001b[0;32m     41\u001b[0m \u001b[1;33m\u001b[0m\u001b[0m\n\u001b[1;32m---> 42\u001b[1;33m     \u001b[0mpredicted_outputs\u001b[0m \u001b[1;33m=\u001b[0m \u001b[1;33m[\u001b[0m\u001b[0mmlp\u001b[0m\u001b[1;33m.\u001b[0m\u001b[0mpredict_mlp_model_classification\u001b[0m\u001b[1;33m(\u001b[0m\u001b[0mmodel1\u001b[0m\u001b[1;33m,\u001b[0m \u001b[0mp\u001b[0m\u001b[1;33m)\u001b[0m \u001b[1;32mfor\u001b[0m \u001b[0mp\u001b[0m \u001b[1;32min\u001b[0m \u001b[0mflattened_dataset_inputs\u001b[0m\u001b[1;33m]\u001b[0m\u001b[1;33m\u001b[0m\u001b[1;33m\u001b[0m\u001b[0m\n\u001b[0m\u001b[0;32m     43\u001b[0m \u001b[1;33m\u001b[0m\u001b[0m\n\u001b[0;32m     44\u001b[0m     \u001b[0mdisplay_value\u001b[0m\u001b[1;33m(\u001b[0m\u001b[1;36m100\u001b[0m\u001b[1;33m,\u001b[0m\u001b[0mpredicted_outputs\u001b[0m\u001b[1;33m)\u001b[0m\u001b[1;33m\u001b[0m\u001b[1;33m\u001b[0m\u001b[0m\n",
      "\u001b[1;32m<ipython-input-22-16b0a6ad2a7e>\u001b[0m in \u001b[0;36m<listcomp>\u001b[1;34m(.0)\u001b[0m\n\u001b[0;32m     40\u001b[0m                                                                 iterations_count=100000)\n\u001b[0;32m     41\u001b[0m \u001b[1;33m\u001b[0m\u001b[0m\n\u001b[1;32m---> 42\u001b[1;33m     \u001b[0mpredicted_outputs\u001b[0m \u001b[1;33m=\u001b[0m \u001b[1;33m[\u001b[0m\u001b[0mmlp\u001b[0m\u001b[1;33m.\u001b[0m\u001b[0mpredict_mlp_model_classification\u001b[0m\u001b[1;33m(\u001b[0m\u001b[0mmodel1\u001b[0m\u001b[1;33m,\u001b[0m \u001b[0mp\u001b[0m\u001b[1;33m)\u001b[0m \u001b[1;32mfor\u001b[0m \u001b[0mp\u001b[0m \u001b[1;32min\u001b[0m \u001b[0mflattened_dataset_inputs\u001b[0m\u001b[1;33m]\u001b[0m\u001b[1;33m\u001b[0m\u001b[1;33m\u001b[0m\u001b[0m\n\u001b[0m\u001b[0;32m     43\u001b[0m \u001b[1;33m\u001b[0m\u001b[0m\n\u001b[0;32m     44\u001b[0m     \u001b[0mdisplay_value\u001b[0m\u001b[1;33m(\u001b[0m\u001b[1;36m100\u001b[0m\u001b[1;33m,\u001b[0m\u001b[0mpredicted_outputs\u001b[0m\u001b[1;33m)\u001b[0m\u001b[1;33m\u001b[0m\u001b[1;33m\u001b[0m\u001b[0m\n",
      "\u001b[1;32mG:\\Programmes\\Python\\projetAnnuel\\python\\mlp.py\u001b[0m in \u001b[0;36mpredict_mlp_model_classification\u001b[1;34m(self, model, sample_inputs)\u001b[0m\n\u001b[0;32m    120\u001b[0m     \u001b[1;32mdef\u001b[0m \u001b[0mpredict_mlp_model_classification\u001b[0m\u001b[1;33m(\u001b[0m\u001b[0mself\u001b[0m\u001b[1;33m,\u001b[0m \u001b[0mmodel\u001b[0m\u001b[1;33m,\u001b[0m \u001b[0msample_inputs\u001b[0m\u001b[1;33m)\u001b[0m\u001b[1;33m:\u001b[0m\u001b[1;33m\u001b[0m\u001b[1;33m\u001b[0m\u001b[0m\n\u001b[0;32m    121\u001b[0m \u001b[1;33m\u001b[0m\u001b[0m\n\u001b[1;32m--> 122\u001b[1;33m         \u001b[0msample_inputs_size\u001b[0m \u001b[1;33m=\u001b[0m \u001b[0mlen\u001b[0m\u001b[1;33m(\u001b[0m\u001b[0msample_inputs\u001b[0m\u001b[1;33m)\u001b[0m\u001b[1;33m\u001b[0m\u001b[1;33m\u001b[0m\u001b[0m\n\u001b[0m\u001b[0;32m    123\u001b[0m         \u001b[0msample_inputs_cast\u001b[0m \u001b[1;33m=\u001b[0m \u001b[0mcast\u001b[0m\u001b[1;33m(\u001b[0m\u001b[1;33m(\u001b[0m\u001b[0mc_float\u001b[0m \u001b[1;33m*\u001b[0m \u001b[0msample_inputs_size\u001b[0m\u001b[1;33m)\u001b[0m\u001b[1;33m(\u001b[0m\u001b[1;33m*\u001b[0m\u001b[0msample_inputs\u001b[0m\u001b[1;33m)\u001b[0m\u001b[1;33m,\u001b[0m \u001b[0mPOINTER\u001b[0m\u001b[1;33m(\u001b[0m\u001b[0mc_float\u001b[0m\u001b[1;33m)\u001b[0m\u001b[1;33m)\u001b[0m\u001b[1;33m\u001b[0m\u001b[1;33m\u001b[0m\u001b[0m\n\u001b[0;32m    124\u001b[0m \u001b[1;33m\u001b[0m\u001b[0m\n",
      "\u001b[1;31mTypeError\u001b[0m: object of type 'numpy.float64' has no len()"
     ]
    }
   ],
   "source": [
    "run_mlp()"
   ]
  },
  {
   "cell_type": "code",
   "execution_count": null,
   "id": "48321ab2",
   "metadata": {},
   "outputs": [],
   "source": []
  }
 ],
 "metadata": {
  "kernelspec": {
   "display_name": "Python 3",
   "language": "python",
   "name": "python3"
  },
  "language_info": {
   "codemirror_mode": {
    "name": "ipython",
    "version": 3
   },
   "file_extension": ".py",
   "mimetype": "text/x-python",
   "name": "python",
   "nbconvert_exporter": "python",
   "pygments_lexer": "ipython3",
   "version": "3.8.8"
  }
 },
 "nbformat": 4,
 "nbformat_minor": 5
}
